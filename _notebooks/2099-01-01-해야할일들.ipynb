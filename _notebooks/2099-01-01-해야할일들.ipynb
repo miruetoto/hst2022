{
 "cells": [
  {
   "cell_type": "markdown",
   "id": "d20f3154-0b8b-4853-bf5b-89a463c98c0e",
   "metadata": {
    "tags": []
   },
   "source": [
    "# 해야할일들"
   ]
  },
  {
   "cell_type": "markdown",
   "id": "084e6aa4-24a9-4b2d-a838-e6d80c7db02f",
   "metadata": {},
   "source": [
    "## 실험연구"
   ]
  },
  {
   "cell_type": "markdown",
   "id": "6ba7e0a0-7238-418d-885d-ada2ab1db084",
   "metadata": {},
   "source": [
    "(1) HST에서 t와 노드수에 따른 계산시간측정 \n",
    "\n",
    "(2) 예제2에서 다양한 noise 셋팅하에 유클리드, HST 2가지 방법으로 clustering performance 측정 \n",
    "- 당연히 유클리드와 HST만 유의미한 결과가 나올것 같아서 의미는 없을것 같습니다. \n",
    "\n",
    "(3) 예제2에서 다양한 noise 셋팅하에 diffusion distance와 HST의 embeddgin performance 시각화 + 반지름 제곱합을 histogram으로 제시\n",
    "- diffusion distance는 노이즈에 영향을 받지 않고 HST는 f를 고려하므로 노이즈에 영향을 받을 겁니다. \n",
    "- HST가 노이즈레벨에 따라서 어떠한 임베딩퍼포먼스의 변화를 보이는지 시각화하는게 의미있을수도 있습니다.\n",
    "- 반지름의 제곱합을 histogram으로 제시\n",
    "\n",
    "(4) piece-wise sine -> 유클리드, 그래프, HST 3가지 방법으로 그래프변환 후 reconstruction하여 true값을 얼마나 잘 추론하는지? \n"
   ]
  },
  {
   "cell_type": "code",
   "execution_count": null,
   "id": "fa773b86-409c-40f4-aa2f-34c2ed9bdd94",
   "metadata": {},
   "outputs": [],
   "source": []
  },
  {
   "cell_type": "code",
   "execution_count": null,
   "id": "e7206c73-0c2f-4154-912f-dc5fdba2acbd",
   "metadata": {},
   "outputs": [],
   "source": []
  },
  {
   "cell_type": "code",
   "execution_count": null,
   "id": "ee2b3464-1ea6-423f-83c1-2f44ce5798bb",
   "metadata": {},
   "outputs": [],
   "source": []
  },
  {
   "cell_type": "code",
   "execution_count": null,
   "id": "cb729e1f-a847-4d0e-a824-6139088e5bae",
   "metadata": {},
   "outputs": [],
   "source": []
  }
 ],
 "metadata": {
  "kernelspec": {
   "display_name": "Python 3 (ipykernel)",
   "language": "python",
   "name": "python3"
  },
  "language_info": {
   "codemirror_mode": {
    "name": "ipython",
    "version": 3
   },
   "file_extension": ".py",
   "mimetype": "text/x-python",
   "name": "python",
   "nbconvert_exporter": "python",
   "pygments_lexer": "ipython3",
   "version": "3.10.2"
  }
 },
 "nbformat": 4,
 "nbformat_minor": 5
}
