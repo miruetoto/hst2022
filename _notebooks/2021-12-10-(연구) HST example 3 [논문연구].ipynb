{
 "cells": [
  {
   "cell_type": "markdown",
   "metadata": {
    "tags": []
   },
   "source": [
    "# (연구) HST example 3\n",
    "\n",
    "- toc:true\n",
    "- branch: master\n",
    "- badges: true\n",
    "- comments: true\n",
    "- author: 신록예찬\n",
    "- hide: false\n",
    "- categories: [논문연구]"
   ]
  },
  {
   "cell_type": "markdown",
   "metadata": {},
   "source": [
    "### 실험환경 "
   ]
  },
  {
   "cell_type": "code",
   "execution_count": 1,
   "metadata": {},
   "outputs": [
    {
     "name": "stdout",
     "output_type": "stream",
     "text": [
      "# conda environments:\n",
      "#\n",
      "base                     /home/cgb2/anaconda3\n",
      "py39r40               *  /home/cgb2/anaconda3/envs/py39r40\n",
      "\n"
     ]
    }
   ],
   "source": [
    "!conda env list"
   ]
  },
  {
   "cell_type": "markdown",
   "metadata": {
    "tags": []
   },
   "source": [
    "### import"
   ]
  },
  {
   "cell_type": "code",
   "execution_count": 302,
   "metadata": {},
   "outputs": [],
   "source": [
    "def show(fig): \n",
    "    return HTML(fig.to_html(include_plotlyjs='cdn',include_mathjax=False, config=dict({'scrollZoom':False})))"
   ]
  },
  {
   "cell_type": "code",
   "execution_count": 2,
   "metadata": {},
   "outputs": [],
   "source": [
    "## 1. remove trash\n",
    "import numpy as np\n",
    "import pandas as pd\n",
    "import matplotlib.pyplot as plt\n",
    "import matplotlib\n",
    "matplotlib.rc('image', cmap='Greys')\n",
    "import rpy2 \n",
    "%load_ext rpy2.ipython\n",
    "%run pybase\n",
    "%run heavysnow \n",
    "plt.style.use('ggplot')"
   ]
  },
  {
   "cell_type": "markdown",
   "metadata": {},
   "source": [
    "### load data"
   ]
  },
  {
   "cell_type": "code",
   "execution_count": 3,
   "metadata": {},
   "outputs": [],
   "source": [
    "n=23\n",
    "f=np.array(pd.read_csv(\"2021-08-15-MCU-ticket.csv\").Worldwide)/1000000\n",
    "V=np.array(pd.read_csv(\"2021-08-15-MCU-ticket.csv\").Film)\n",
    "W=np.array(pd.read_csv(\"2021-08-15-MCU-weights.csv\",index_col=0))-np.eye(n,n)"
   ]
  },
  {
   "cell_type": "markdown",
   "metadata": {},
   "source": [
    "### HST"
   ]
  },
  {
   "cell_type": "code",
   "execution_count": 4,
   "metadata": {},
   "outputs": [
    {
     "name": "stdout",
     "output_type": "stream",
     "text": [
      "HST (tau= 80000, b=1)\n",
      "80000/80000\n",
      "HST completed and all history is recorded.\n"
     ]
    }
   ],
   "source": [
    "gs=GraphSignal(V,W,f)\n",
    "hst=HeavysnowTransform(gs)\n",
    "hst.snow(tau=80000,b=1)"
   ]
  },
  {
   "cell_type": "code",
   "execution_count": 166,
   "metadata": {},
   "outputs": [
    {
     "name": "stderr",
     "output_type": "stream",
     "text": [
      "/home/cgb2/Dropbox/01_yechan/_notebooks/heavysnow.py:11: RuntimeWarning:\n",
      "\n",
      "invalid value encountered in true_divide\n",
      "\n"
     ]
    },
    {
     "data": {
      "image/png": "[encoded data removed]",
      "text/plain": [
       "<Figure size 432x288 with 1 Axes>"
      ]
     },
     "metadata": {},
     "output_type": "display_data"
    }
   ],
   "source": [
    "def choose_theta(maxtheta=300):\n",
    "    y=[]\n",
    "    x=np.arange(start=0.01,stop=maxtheta,step=0.1)\n",
    "    for i in range(len(x)):\n",
    "        hst.adjustingtheta(x[i]) \n",
    "        gs=GraphSignal(V,hst.snowweight,f)\n",
    "        spa=SpectralAnalysis(gs)\n",
    "        spa.graphFouriertransform()\n",
    "        spa.decompose()        \n",
    "        y.append(sum(abs(spa.lamb)<0.001))\n",
    "    plt.plot(x,y)    \n",
    "choose_theta()   "
   ]
  },
  {
   "cell_type": "code",
   "execution_count": 167,
   "metadata": {},
   "outputs": [],
   "source": [
    "hst.adjustingtheta(300)"
   ]
  },
  {
   "cell_type": "code",
   "execution_count": 169,
   "metadata": {},
   "outputs": [
    {
     "data": {
      "text/plain": [
       "<matplotlib.image.AxesImage at 0x7f7515f99550>"
      ]
     },
     "execution_count": 169,
     "metadata": {},
     "output_type": "execute_result"
    },
    {
     "data": {
      "image/png": "[encoded data removed]",
      "text/plain": [
       "<Figure size 432x288 with 1 Axes>"
      ]
     },
     "metadata": {},
     "output_type": "display_data"
    }
   ],
   "source": [
    "plt.imshow(hst.snowweight)"
   ]
  },
  {
   "cell_type": "code",
   "execution_count": 190,
   "metadata": {},
   "outputs": [
    {
     "data": {
      "text/html": [
       "<div>\n",
       "<style scoped>\n",
       "    .dataframe tbody tr th:only-of-type {\n",
       "        vertical-align: middle;\n",
       "    }\n",
       "\n",
       "    .dataframe tbody tr th {\n",
       "        vertical-align: top;\n",
       "    }\n",
       "\n",
       "    .dataframe thead th {\n",
       "        text-align: right;\n",
       "    }\n",
       "</style>\n",
       "<table border=\"1\" class=\"dataframe\">\n",
       "  <thead>\n",
       "    <tr style=\"text-align: right;\">\n",
       "      <th></th>\n",
       "      <th>V</th>\n",
       "      <th>f</th>\n",
       "      <th>divlink</th>\n",
       "      <th>conlink</th>\n",
       "      <th>type</th>\n",
       "    </tr>\n",
       "  </thead>\n",
       "  <tbody>\n",
       "    <tr>\n",
       "      <th>0</th>\n",
       "      <td>Iron Man</td>\n",
       "      <td>585.174222</td>\n",
       "      <td>4.000000</td>\n",
       "      <td>2.515815</td>\n",
       "      <td>solo</td>\n",
       "    </tr>\n",
       "    <tr>\n",
       "      <th>1</th>\n",
       "      <td>The Incredible Hulk</td>\n",
       "      <td>263.427551</td>\n",
       "      <td>1.000000</td>\n",
       "      <td>0.294608</td>\n",
       "      <td>solo</td>\n",
       "    </tr>\n",
       "    <tr>\n",
       "      <th>2</th>\n",
       "      <td>Iron Man 2</td>\n",
       "      <td>623.933331</td>\n",
       "      <td>4.153846</td>\n",
       "      <td>3.107363</td>\n",
       "      <td>solo</td>\n",
       "    </tr>\n",
       "    <tr>\n",
       "      <th>3</th>\n",
       "      <td>Thor</td>\n",
       "      <td>449.326618</td>\n",
       "      <td>2.562500</td>\n",
       "      <td>2.241890</td>\n",
       "      <td>solo</td>\n",
       "    </tr>\n",
       "    <tr>\n",
       "      <th>4</th>\n",
       "      <td>Captain America: The First Avenger</td>\n",
       "      <td>370.569774</td>\n",
       "      <td>1.750000</td>\n",
       "      <td>0.948269</td>\n",
       "      <td>solo</td>\n",
       "    </tr>\n",
       "    <tr>\n",
       "      <th>5</th>\n",
       "      <td>The Avengers</td>\n",
       "      <td>1518.812988</td>\n",
       "      <td>4.647059</td>\n",
       "      <td>4.332114</td>\n",
       "      <td>multi</td>\n",
       "    </tr>\n",
       "    <tr>\n",
       "      <th>6</th>\n",
       "      <td>Iron Man 3</td>\n",
       "      <td>1214.811252</td>\n",
       "      <td>3.200000</td>\n",
       "      <td>1.690351</td>\n",
       "      <td>solo</td>\n",
       "    </tr>\n",
       "    <tr>\n",
       "      <th>7</th>\n",
       "      <td>Thor: The Dark World</td>\n",
       "      <td>644.571402</td>\n",
       "      <td>2.411765</td>\n",
       "      <td>2.147921</td>\n",
       "      <td>solo</td>\n",
       "    </tr>\n",
       "    <tr>\n",
       "      <th>8</th>\n",
       "      <td>Captain America: The Winter Soldier</td>\n",
       "      <td>714.264267</td>\n",
       "      <td>3.266667</td>\n",
       "      <td>2.455757</td>\n",
       "      <td>solo</td>\n",
       "    </tr>\n",
       "    <tr>\n",
       "      <th>9</th>\n",
       "      <td>Guardians of the Galaxy</td>\n",
       "      <td>773.328629</td>\n",
       "      <td>1.631579</td>\n",
       "      <td>1.212075</td>\n",
       "      <td>solo</td>\n",
       "    </tr>\n",
       "    <tr>\n",
       "      <th>10</th>\n",
       "      <td>Avengers: Age of Ultron</td>\n",
       "      <td>1405.403694</td>\n",
       "      <td>3.952381</td>\n",
       "      <td>4.428065</td>\n",
       "      <td>multi</td>\n",
       "    </tr>\n",
       "    <tr>\n",
       "      <th>11</th>\n",
       "      <td>Ant-man</td>\n",
       "      <td>519.311965</td>\n",
       "      <td>1.750000</td>\n",
       "      <td>1.096071</td>\n",
       "      <td>solo</td>\n",
       "    </tr>\n",
       "    <tr>\n",
       "      <th>12</th>\n",
       "      <td>Captain America: Civil War</td>\n",
       "      <td>1153.304495</td>\n",
       "      <td>3.500000</td>\n",
       "      <td>4.048106</td>\n",
       "      <td>multi</td>\n",
       "    </tr>\n",
       "    <tr>\n",
       "      <th>13</th>\n",
       "      <td>Doctor Strange</td>\n",
       "      <td>677.718395</td>\n",
       "      <td>0.857143</td>\n",
       "      <td>0.182711</td>\n",
       "      <td>solo</td>\n",
       "    </tr>\n",
       "    <tr>\n",
       "      <th>14</th>\n",
       "      <td>Guardians of the Galaxy Vol 2</td>\n",
       "      <td>863.756051</td>\n",
       "      <td>1.190476</td>\n",
       "      <td>0.898435</td>\n",
       "      <td>solo</td>\n",
       "    </tr>\n",
       "    <tr>\n",
       "      <th>15</th>\n",
       "      <td>Spider-man: Homecoming</td>\n",
       "      <td>880.166924</td>\n",
       "      <td>1.913043</td>\n",
       "      <td>2.416100</td>\n",
       "      <td>solo</td>\n",
       "    </tr>\n",
       "    <tr>\n",
       "      <th>16</th>\n",
       "      <td>Thor: Ragnarok</td>\n",
       "      <td>853.977126</td>\n",
       "      <td>2.285714</td>\n",
       "      <td>1.682512</td>\n",
       "      <td>solo</td>\n",
       "    </tr>\n",
       "    <tr>\n",
       "      <th>17</th>\n",
       "      <td>Black Panther</td>\n",
       "      <td>1346.913161</td>\n",
       "      <td>1.142857</td>\n",
       "      <td>0.582001</td>\n",
       "      <td>solo</td>\n",
       "    </tr>\n",
       "    <tr>\n",
       "      <th>18</th>\n",
       "      <td>Avengers: Infinity War</td>\n",
       "      <td>2048.359754</td>\n",
       "      <td>3.589744</td>\n",
       "      <td>7.545470</td>\n",
       "      <td>multi</td>\n",
       "    </tr>\n",
       "    <tr>\n",
       "      <th>19</th>\n",
       "      <td>Ant-man and the Wasp</td>\n",
       "      <td>622.674139</td>\n",
       "      <td>1.000000</td>\n",
       "      <td>0.875455</td>\n",
       "      <td>solo</td>\n",
       "    </tr>\n",
       "    <tr>\n",
       "      <th>20</th>\n",
       "      <td>Captain Marvel</td>\n",
       "      <td>1128.274794</td>\n",
       "      <td>1.333333</td>\n",
       "      <td>0.926001</td>\n",
       "      <td>solo</td>\n",
       "    </tr>\n",
       "    <tr>\n",
       "      <th>21</th>\n",
       "      <td>Avengers: Endgame</td>\n",
       "      <td>2796.274401</td>\n",
       "      <td>3.120000</td>\n",
       "      <td>8.935337</td>\n",
       "      <td>multi</td>\n",
       "    </tr>\n",
       "    <tr>\n",
       "      <th>22</th>\n",
       "      <td>Spider-man: Far From Home</td>\n",
       "      <td>1131.026557</td>\n",
       "      <td>1.937500</td>\n",
       "      <td>1.633182</td>\n",
       "      <td>solo</td>\n",
       "    </tr>\n",
       "  </tbody>\n",
       "</table>\n",
       "</div>"
      ],
      "text/plain": [
       "                                      V            f   divlink   conlink  \\\n",
       "0                              Iron Man   585.174222  4.000000  2.515815   \n",
       "1                   The Incredible Hulk   263.427551  1.000000  0.294608   \n",
       "2                            Iron Man 2   623.933331  4.153846  3.107363   \n",
       "3                                  Thor   449.326618  2.562500  2.241890   \n",
       "4    Captain America: The First Avenger   370.569774  1.750000  0.948269   \n",
       "5                          The Avengers  1518.812988  4.647059  4.332114   \n",
       "6                            Iron Man 3  1214.811252  3.200000  1.690351   \n",
       "7                  Thor: The Dark World   644.571402  2.411765  2.147921   \n",
       "8   Captain America: The Winter Soldier   714.264267  3.266667  2.455757   \n",
       "9               Guardians of the Galaxy   773.328629  1.631579  1.212075   \n",
       "10              Avengers: Age of Ultron  1405.403694  3.952381  4.428065   \n",
       "11                              Ant-man   519.311965  1.750000  1.096071   \n",
       "12           Captain America: Civil War  1153.304495  3.500000  4.048106   \n",
       "13                       Doctor Strange   677.718395  0.857143  0.182711   \n",
       "14        Guardians of the Galaxy Vol 2   863.756051  1.190476  0.898435   \n",
       "15               Spider-man: Homecoming   880.166924  1.913043  2.416100   \n",
       "16                       Thor: Ragnarok   853.977126  2.285714  1.682512   \n",
       "17                        Black Panther  1346.913161  1.142857  0.582001   \n",
       "18               Avengers: Infinity War  2048.359754  3.589744  7.545470   \n",
       "19                 Ant-man and the Wasp   622.674139  1.000000  0.875455   \n",
       "20                       Captain Marvel  1128.274794  1.333333  0.926001   \n",
       "21                    Avengers: Endgame  2796.274401  3.120000  8.935337   \n",
       "22            Spider-man: Far From Home  1131.026557  1.937500  1.633182   \n",
       "\n",
       "     type  \n",
       "0    solo  \n",
       "1    solo  \n",
       "2    solo  \n",
       "3    solo  \n",
       "4    solo  \n",
       "5   multi  \n",
       "6    solo  \n",
       "7    solo  \n",
       "8    solo  \n",
       "9    solo  \n",
       "10  multi  \n",
       "11   solo  \n",
       "12  multi  \n",
       "13   solo  \n",
       "14   solo  \n",
       "15   solo  \n",
       "16   solo  \n",
       "17   solo  \n",
       "18  multi  \n",
       "19   solo  \n",
       "20   solo  \n",
       "21  multi  \n",
       "22   solo  "
      ]
     },
     "execution_count": 190,
     "metadata": {},
     "output_type": "execute_result"
    }
   ],
   "source": [
    "_type=['solo']*5+['multi']+['solo']*4+['multi']+['solo']+['multi']+['solo']*5+['multi']+['solo']*2+['multi']+['solo']\n",
    "df=pd.DataFrame({'V':hst.V,'f':hst.f,'divlink':hst.graphweight.sum(axis=1), 'conlink':hst.graphweight.sum(axis=0),'type':_type})\n",
    "df"
   ]
  },
  {
   "cell_type": "code",
   "execution_count": 322,
   "metadata": {},
   "outputs": [
    {
     "ename": "NameError",
     "evalue": "name '_vx' is not defined",
     "output_type": "error",
     "traceback": [
      "\u001b[0;31m---------------------------------------------------------------------------\u001b[0m",
      "\u001b[0;31mNameError\u001b[0m                                 Traceback (most recent call last)",
      "\u001b[0;32m<ipython-input-322-dab8a8fd3a2a>\u001b[0m in \u001b[0;36m<module>\u001b[0;34m\u001b[0m\n\u001b[1;32m     32\u001b[0m \u001b[0;34m\u001b[0m\u001b[0m\n\u001b[1;32m     33\u001b[0m \u001b[0;34m\u001b[0m\u001b[0m\n\u001b[0;32m---> 34\u001b[0;31m fig = go.Figure(data=[go.Surface(x = _vx, y = _vy, z = _z1, colorscale=_colorscale, colorbar=_colorbar,showscale=False),\n\u001b[0m\u001b[1;32m     35\u001b[0m                       \u001b[0mgo\u001b[0m\u001b[0;34m.\u001b[0m\u001b[0mSurface\u001b[0m\u001b[0;34m(\u001b[0m\u001b[0mx\u001b[0m \u001b[0;34m=\u001b[0m \u001b[0m_vx\u001b[0m\u001b[0;34m,\u001b[0m \u001b[0my\u001b[0m \u001b[0;34m=\u001b[0m \u001b[0m_vy\u001b[0m\u001b[0;34m,\u001b[0m \u001b[0mz\u001b[0m \u001b[0;34m=\u001b[0m \u001b[0m_z2\u001b[0m\u001b[0;34m,\u001b[0m \u001b[0mcolorscale\u001b[0m\u001b[0;34m=\u001b[0m\u001b[0m_colorscale\u001b[0m\u001b[0;34m,\u001b[0m \u001b[0mcolorbar\u001b[0m\u001b[0;34m=\u001b[0m\u001b[0m_colorbar\u001b[0m\u001b[0;34m,\u001b[0m\u001b[0mshowscale\u001b[0m\u001b[0;34m=\u001b[0m\u001b[0;32mFalse\u001b[0m\u001b[0;34m)\u001b[0m\u001b[0;34m,\u001b[0m\u001b[0;34m\u001b[0m\u001b[0;34m\u001b[0m\u001b[0m\n\u001b[1;32m     36\u001b[0m                       \u001b[0mgo\u001b[0m\u001b[0;34m.\u001b[0m\u001b[0mSurface\u001b[0m\u001b[0;34m(\u001b[0m\u001b[0mx\u001b[0m \u001b[0;34m=\u001b[0m \u001b[0m_vx\u001b[0m\u001b[0;34m,\u001b[0m \u001b[0my\u001b[0m \u001b[0;34m=\u001b[0m \u001b[0m_vy\u001b[0m\u001b[0;34m,\u001b[0m \u001b[0mz\u001b[0m \u001b[0;34m=\u001b[0m \u001b[0m_z3\u001b[0m\u001b[0;34m,\u001b[0m \u001b[0mcolorscale\u001b[0m\u001b[0;34m=\u001b[0m\u001b[0m_colorscale\u001b[0m\u001b[0;34m,\u001b[0m \u001b[0mcolorbar\u001b[0m\u001b[0;34m=\u001b[0m\u001b[0m_colorbar\u001b[0m\u001b[0;34m,\u001b[0m\u001b[0mshowscale\u001b[0m\u001b[0;34m=\u001b[0m\u001b[0;32mFalse\u001b[0m\u001b[0;34m)\u001b[0m\u001b[0;34m,\u001b[0m\u001b[0;34m\u001b[0m\u001b[0;34m\u001b[0m\u001b[0m\n",
      "\u001b[0;31mNameError\u001b[0m: name '_vx' is not defined"
     ]
    }
   ],
   "source": [
    "import plotly.graph_objects as go\n",
    "from IPython.display import HTML\n",
    "import scipy.ndimage\n",
    "\n",
    "_contours = {\n",
    "        \"x\": {\"show\": True, \"start\": -1, \"end\": 1, \"size\": 0.2},\n",
    "        \"y\": {\"show\": True, \"start\": -1, \"end\": 1, \"size\": 0.2}\n",
    "}\n",
    "\n",
    "\n",
    "_mode ='wrap'\n",
    "\n",
    "_filter = np.array([1.0,1.0])*1\n",
    "#_z0=scipy.ndimage.filters.gaussian_filter(np.diag(np.r_[hs2.snowygrounds[:,0],hs2.snowygrounds[:1,0]])+100, _filter-0.2, mode=_mode) \n",
    "_z1=scipy.ndimage.filters.gaussian_filter(np.diag(hst.snowygrounds[:,4000])+0,_filter, mode=_mode) \n",
    "_z2=scipy.ndimage.filters.gaussian_filter(np.diag(hst.snowygrounds[:,6000])+5000,_filter+0.3, mode=_mode)\n",
    "_z3=scipy.ndimage.filters.gaussian_filter(np.diag(hst.snowygrounds[:,8000])+50000,_filter+0.8, mode=_mode)\n",
    "\n",
    "_colorscale=[\n",
    "        [0, 'rgb(0, 0, 0)'],\n",
    "        [1./10000, 'rgb(50, 50, 50)'],\n",
    "        [1./1000, 'rgb(100, 100, 100)'],\n",
    "        [1./100, 'rgb(150, 150, 150)'],\n",
    "        [1./10, 'rgb(200, 200, 200)'],\n",
    "        [1., 'rgb(255, 255, 255)'],\n",
    "        ]\n",
    "_colorbar= dict(\n",
    "        tick0= 0,\n",
    "        tickmode= 'array',\n",
    "        tickvals= [-5, 0, 5, 10]\n",
    "    )\n",
    "\n",
    "\n",
    "fig = go.Figure(data=[go.Surface(x = _vx, y = _vy, z = _z1, colorscale=_colorscale, colorbar=_colorbar,showscale=False),\n",
    "                      go.Surface(x = _vx, y = _vy, z = _z2, colorscale=_colorscale, colorbar=_colorbar,showscale=False),\n",
    "                      go.Surface(x = _vx, y = _vy, z = _z3, colorscale=_colorscale, colorbar=_colorbar,showscale=False),\n",
    "                     ])\n",
    "fig.update_layout(width=1000,height=1000, scene_camera_eye=dict(x=2, y=1, z=0.5))"
   ]
  },
  {
   "cell_type": "code",
   "execution_count": 368,
   "metadata": {},
   "outputs": [
    {
     "data": {
      "text/html": [
       "<html>\n",
       "<head><meta charset=\"utf-8\" /></head>\n",
       "<body>\n",
       "    <div>                        <script type=\"text/javascript\">window.PlotlyConfig = {MathJaxConfig: 'local'};</script>\n",
       "        <script src=\"https://cdn.plot.ly/plotly-2.8.3.min.js\"></script>                <div id=\"00720faa-a0f3-47be-a967-b856b494c3b5\" class=\"plotly-graph-div\" style=\"height:1000px; width:1000px;\"></div>            <script type=\"text/javascript\">                                    window.PLOTLYENV=window.PLOTLYENV || {};                                    if (document.getElementById(\"00720faa-a0f3-47be-a967-b856b494c3b5\")) {                    Plotly.newPlot(                        \"00720faa-a0f3-47be-a967-b856b494c3b5\",                        [{\"colorbar\":{\"tick0\":0,\"tickmode\":\"array\",\"tickvals\":[-5,0,5,10]},\"colorscale\":[[0,\"rgb(0, 0, 0)\"],[0.0001,\"rgb(50, 50, 50)\"],[0.001,\"rgb(100, 100, 100)\"],[0.01,\"rgb(150, 150, 150)\"],[0.1,\"rgb(200, 200, 200)\"],[1.0,\"rgb(255, 255, 255)\"]],\"showscale\":false,\"x\":[2.5158153334304227,0.2946077451959803,3.10736280556613,2.2418904624786977,0.9482690817281607,4.332114269272702,1.6903510917897102,2.147920773980809,2.455756619765571,1.2120749838396896,4.428064554797291,1.0960705960705959,4.048105541091474,0.1827106227106226,0.8984345479082322,2.4160999784529196,1.6825118508942039,0.5820013320013319,7.545470462256367,0.8754545454545454,0.9260012923093417,8.935336532718415,1.6331821034890084],\"y\":[3.999999999999999,0.9999999999999997,4.153846153846153,2.5625,1.7499999999999996,4.64705882352941,3.2,2.4117647058823524,3.2666666666666657,1.6315789473684208,3.952380952380951,1.7499999999999998,3.499999999999999,0.857142857142857,1.1904761904761905,1.9130434782608694,2.2857142857142856,1.1428571428571428,3.589743589743589,1.0,1.3333333333333328,3.1200000000000006,1.9375],\"z\":[[585.174222,0.0,0.0,0.0,0.0,0.0,0.0,0.0,0.0,0.0,0.0,0.0,0.0,0.0,0.0,0.0,0.0,0.0,0.0,0.0,0.0,0.0,0.0],[0.0,263.427551,0.0,0.0,0.0,0.0,0.0,0.0,0.0,0.0,0.0,0.0,0.0,0.0,0.0,0.0,0.0,0.0,0.0,0.0,0.0,0.0,0.0],[0.0,0.0,623.933331,0.0,0.0,0.0,0.0,0.0,0.0,0.0,0.0,0.0,0.0,0.0,0.0,0.0,0.0,0.0,0.0,0.0,0.0,0.0,0.0],[0.0,0.0,0.0,449.326618,0.0,0.0,0.0,0.0,0.0,0.0,0.0,0.0,0.0,0.0,0.0,0.0,0.0,0.0,0.0,0.0,0.0,0.0,0.0],[0.0,0.0,0.0,0.0,370.569774,0.0,0.0,0.0,0.0,0.0,0.0,0.0,0.0,0.0,0.0,0.0,0.0,0.0,0.0,0.0,0.0,0.0,0.0],[0.0,0.0,0.0,0.0,0.0,1518.812988,0.0,0.0,0.0,0.0,0.0,0.0,0.0,0.0,0.0,0.0,0.0,0.0,0.0,0.0,0.0,0.0,0.0],[0.0,0.0,0.0,0.0,0.0,0.0,1214.811252,0.0,0.0,0.0,0.0,0.0,0.0,0.0,0.0,0.0,0.0,0.0,0.0,0.0,0.0,0.0,0.0],[0.0,0.0,0.0,0.0,0.0,0.0,0.0,644.571402,0.0,0.0,0.0,0.0,0.0,0.0,0.0,0.0,0.0,0.0,0.0,0.0,0.0,0.0,0.0],[0.0,0.0,0.0,0.0,0.0,0.0,0.0,0.0,714.264267,0.0,0.0,0.0,0.0,0.0,0.0,0.0,0.0,0.0,0.0,0.0,0.0,0.0,0.0],[0.0,0.0,0.0,0.0,0.0,0.0,0.0,0.0,0.0,773.328629,0.0,0.0,0.0,0.0,0.0,0.0,0.0,0.0,0.0,0.0,0.0,0.0,0.0],[0.0,0.0,0.0,0.0,0.0,0.0,0.0,0.0,0.0,0.0,1405.403694,0.0,0.0,0.0,0.0,0.0,0.0,0.0,0.0,0.0,0.0,0.0,0.0],[0.0,0.0,0.0,0.0,0.0,0.0,0.0,0.0,0.0,0.0,0.0,519.311965,0.0,0.0,0.0,0.0,0.0,0.0,0.0,0.0,0.0,0.0,0.0],[0.0,0.0,0.0,0.0,0.0,0.0,0.0,0.0,0.0,0.0,0.0,0.0,1153.304495,0.0,0.0,0.0,0.0,0.0,0.0,0.0,0.0,0.0,0.0],[0.0,0.0,0.0,0.0,0.0,0.0,0.0,0.0,0.0,0.0,0.0,0.0,0.0,677.718395,0.0,0.0,0.0,0.0,0.0,0.0,0.0,0.0,0.0],[0.0,0.0,0.0,0.0,0.0,0.0,0.0,0.0,0.0,0.0,0.0,0.0,0.0,0.0,863.756051,0.0,0.0,0.0,0.0,0.0,0.0,0.0,0.0],[0.0,0.0,0.0,0.0,0.0,0.0,0.0,0.0,0.0,0.0,0.0,0.0,0.0,0.0,0.0,880.166924,0.0,0.0,0.0,0.0,0.0,0.0,0.0],[0.0,0.0,0.0,0.0,0.0,0.0,0.0,0.0,0.0,0.0,0.0,0.0,0.0,0.0,0.0,0.0,853.977126,0.0,0.0,0.0,0.0,0.0,0.0],[0.0,0.0,0.0,0.0,0.0,0.0,0.0,0.0,0.0,0.0,0.0,0.0,0.0,0.0,0.0,0.0,0.0,1346.913161,0.0,0.0,0.0,0.0,0.0],[0.0,0.0,0.0,0.0,0.0,0.0,0.0,0.0,0.0,0.0,0.0,0.0,0.0,0.0,0.0,0.0,0.0,0.0,2048.359754,0.0,0.0,0.0,0.0],[0.0,0.0,0.0,0.0,0.0,0.0,0.0,0.0,0.0,0.0,0.0,0.0,0.0,0.0,0.0,0.0,0.0,0.0,0.0,622.674139,0.0,0.0,0.0],[0.0,0.0,0.0,0.0,0.0,0.0,0.0,0.0,0.0,0.0,0.0,0.0,0.0,0.0,0.0,0.0,0.0,0.0,0.0,0.0,1128.274794,0.0,0.0],[0.0,0.0,0.0,0.0,0.0,0.0,0.0,0.0,0.0,0.0,0.0,0.0,0.0,0.0,0.0,0.0,0.0,0.0,0.0,0.0,0.0,2796.274401,0.0],[0.0,0.0,0.0,0.0,0.0,0.0,0.0,0.0,0.0,0.0,0.0,0.0,0.0,0.0,0.0,0.0,0.0,0.0,0.0,0.0,0.0,0.0,1131.026557]],\"type\":\"surface\"},{\"colorbar\":{\"tick0\":0,\"tickmode\":\"array\",\"tickvals\":[-5,0,5,10]},\"colorscale\":[[0,\"rgb(0, 0, 0)\"],[0.0001,\"rgb(50, 50, 50)\"],[0.001,\"rgb(100, 100, 100)\"],[0.01,\"rgb(150, 150, 150)\"],[0.1,\"rgb(200, 200, 200)\"],[1.0,\"rgb(255, 255, 255)\"]],\"showscale\":false,\"x\":[2.5158153334304227,0.2946077451959803,3.10736280556613,2.2418904624786977,0.9482690817281607,4.332114269272702,1.6903510917897102,2.147920773980809,2.455756619765571,1.2120749838396896,4.428064554797291,1.0960705960705959,4.048105541091474,0.1827106227106226,0.8984345479082322,2.4160999784529196,1.6825118508942039,0.5820013320013319,7.545470462256367,0.8754545454545454,0.9260012923093417,8.935336532718415,1.6331821034890084],\"y\":[3.999999999999999,0.9999999999999997,4.153846153846153,2.5625,1.7499999999999996,4.64705882352941,3.2,2.4117647058823524,3.2666666666666657,1.6315789473684208,3.952380952380951,1.7499999999999998,3.499999999999999,0.857142857142857,1.1904761904761905,1.9130434782608694,2.2857142857142856,1.1428571428571428,3.589743589743589,1.0,1.3333333333333328,3.1200000000000006,1.9375],\"z\":[[7140.174222,5000.0,5000.0,5000.0,5000.0,5000.0,5000.0,5000.0,5000.0,5000.0,5000.0,5000.0,5000.0,5000.0,5000.0,5000.0,5000.0,5000.0,5000.0,5000.0,5000.0,5000.0,5000.0],[5000.0,5560.427551,5000.0,5000.0,5000.0,5000.0,5000.0,5000.0,5000.0,5000.0,5000.0,5000.0,5000.0,5000.0,5000.0,5000.0,5000.0,5000.0,5000.0,5000.0,5000.0,5000.0,5000.0],[5000.0,5000.0,7138.933331,5000.0,5000.0,5000.0,5000.0,5000.0,5000.0,5000.0,5000.0,5000.0,5000.0,5000.0,5000.0,5000.0,5000.0,5000.0,5000.0,5000.0,5000.0,5000.0,5000.0],[5000.0,5000.0,5000.0,6857.326618,5000.0,5000.0,5000.0,5000.0,5000.0,5000.0,5000.0,5000.0,5000.0,5000.0,5000.0,5000.0,5000.0,5000.0,5000.0,5000.0,5000.0,5000.0,5000.0],[5000.0,5000.0,5000.0,5000.0,6306.569774,5000.0,5000.0,5000.0,5000.0,5000.0,5000.0,5000.0,5000.0,5000.0,5000.0,5000.0,5000.0,5000.0,5000.0,5000.0,5000.0,5000.0,5000.0],[5000.0,5000.0,5000.0,5000.0,5000.0,7320.812988,5000.0,5000.0,5000.0,5000.0,5000.0,5000.0,5000.0,5000.0,5000.0,5000.0,5000.0,5000.0,5000.0,5000.0,5000.0,5000.0,5000.0],[5000.0,5000.0,5000.0,5000.0,5000.0,5000.0,7124.8112519999995,5000.0,5000.0,5000.0,5000.0,5000.0,5000.0,5000.0,5000.0,5000.0,5000.0,5000.0,5000.0,5000.0,5000.0,5000.0,5000.0],[5000.0,5000.0,5000.0,5000.0,5000.0,5000.0,5000.0,6860.571402,5000.0,5000.0,5000.0,5000.0,5000.0,5000.0,5000.0,5000.0,5000.0,5000.0,5000.0,5000.0,5000.0,5000.0,5000.0],[5000.0,5000.0,5000.0,5000.0,5000.0,5000.0,5000.0,5000.0,7140.2642670000005,5000.0,5000.0,5000.0,5000.0,5000.0,5000.0,5000.0,5000.0,5000.0,5000.0,5000.0,5000.0,5000.0,5000.0],[5000.0,5000.0,5000.0,5000.0,5000.0,5000.0,5000.0,5000.0,5000.0,6621.328629,5000.0,5000.0,5000.0,5000.0,5000.0,5000.0,5000.0,5000.0,5000.0,5000.0,5000.0,5000.0,5000.0],[5000.0,5000.0,5000.0,5000.0,5000.0,5000.0,5000.0,5000.0,5000.0,5000.0,7320.4036940000005,5000.0,5000.0,5000.0,5000.0,5000.0,5000.0,5000.0,5000.0,5000.0,5000.0,5000.0,5000.0],[5000.0,5000.0,5000.0,5000.0,5000.0,5000.0,5000.0,5000.0,5000.0,5000.0,5000.0,6120.311965,5000.0,5000.0,5000.0,5000.0,5000.0,5000.0,5000.0,5000.0,5000.0,5000.0,5000.0],[5000.0,5000.0,5000.0,5000.0,5000.0,5000.0,5000.0,5000.0,5000.0,5000.0,5000.0,5000.0,7320.304495,5000.0,5000.0,5000.0,5000.0,5000.0,5000.0,5000.0,5000.0,5000.0,5000.0],[5000.0,5000.0,5000.0,5000.0,5000.0,5000.0,5000.0,5000.0,5000.0,5000.0,5000.0,5000.0,5000.0,5879.718395,5000.0,5000.0,5000.0,5000.0,5000.0,5000.0,5000.0,5000.0,5000.0],[5000.0,5000.0,5000.0,5000.0,5000.0,5000.0,5000.0,5000.0,5000.0,5000.0,5000.0,5000.0,5000.0,5000.0,6614.756051,5000.0,5000.0,5000.0,5000.0,5000.0,5000.0,5000.0,5000.0],[5000.0,5000.0,5000.0,5000.0,5000.0,5000.0,5000.0,5000.0,5000.0,5000.0,5000.0,5000.0,5000.0,5000.0,5000.0,7123.166924,5000.0,5000.0,5000.0,5000.0,5000.0,5000.0,5000.0],[5000.0,5000.0,5000.0,5000.0,5000.0,5000.0,5000.0,5000.0,5000.0,5000.0,5000.0,5000.0,5000.0,5000.0,5000.0,5000.0,6853.977126,5000.0,5000.0,5000.0,5000.0,5000.0,5000.0],[5000.0,5000.0,5000.0,5000.0,5000.0,5000.0,5000.0,5000.0,5000.0,5000.0,5000.0,5000.0,5000.0,5000.0,5000.0,5000.0,5000.0,6811.913161,5000.0,5000.0,5000.0,5000.0,5000.0],[5000.0,5000.0,5000.0,5000.0,5000.0,5000.0,5000.0,5000.0,5000.0,5000.0,5000.0,5000.0,5000.0,5000.0,5000.0,5000.0,5000.0,5000.0,7826.359754,5000.0,5000.0,5000.0,5000.0],[5000.0,5000.0,5000.0,5000.0,5000.0,5000.0,5000.0,5000.0,5000.0,5000.0,5000.0,5000.0,5000.0,5000.0,5000.0,5000.0,5000.0,5000.0,5000.0,6116.674139,5000.0,5000.0,5000.0],[5000.0,5000.0,5000.0,5000.0,5000.0,5000.0,5000.0,5000.0,5000.0,5000.0,5000.0,5000.0,5000.0,5000.0,5000.0,5000.0,5000.0,5000.0,5000.0,5000.0,6624.274794,5000.0,5000.0],[5000.0,5000.0,5000.0,5000.0,5000.0,5000.0,5000.0,5000.0,5000.0,5000.0,5000.0,5000.0,5000.0,5000.0,5000.0,5000.0,5000.0,5000.0,5000.0,5000.0,5000.0,7826.274401000001,5000.0],[5000.0,5000.0,5000.0,5000.0,5000.0,5000.0,5000.0,5000.0,5000.0,5000.0,5000.0,5000.0,5000.0,5000.0,5000.0,5000.0,5000.0,5000.0,5000.0,5000.0,5000.0,5000.0,7076.026557]],\"type\":\"surface\"},{\"colorbar\":{\"tick0\":0,\"tickmode\":\"array\",\"tickvals\":[-5,0,5,10]},\"colorscale\":[[0,\"rgb(0, 0, 0)\"],[0.0001,\"rgb(50, 50, 50)\"],[0.001,\"rgb(100, 100, 100)\"],[0.01,\"rgb(150, 150, 150)\"],[0.1,\"rgb(200, 200, 200)\"],[1.0,\"rgb(255, 255, 255)\"]],\"showscale\":false,\"x\":[2.5158153334304227,0.2946077451959803,3.10736280556613,2.2418904624786977,0.9482690817281607,4.332114269272702,1.6903510917897102,2.147920773980809,2.455756619765571,1.2120749838396896,4.428064554797291,1.0960705960705959,4.048105541091474,0.1827106227106226,0.8984345479082322,2.4160999784529196,1.6825118508942039,0.5820013320013319,7.545470462256367,0.8754545454545454,0.9260012923093417,8.935336532718415,1.6331821034890084],\"y\":[3.999999999999999,0.9999999999999997,4.153846153846153,2.5625,1.7499999999999996,4.64705882352941,3.2,2.4117647058823524,3.2666666666666657,1.6315789473684208,3.952380952380951,1.7499999999999998,3.499999999999999,0.857142857142857,1.1904761904761905,1.9130434782608694,2.2857142857142856,1.1428571428571428,3.589743589743589,1.0,1.3333333333333328,3.1200000000000006,1.9375],\"z\":[[13320.174222,10000.0,10000.0,10000.0,10000.0,10000.0,10000.0,10000.0,10000.0,10000.0,10000.0,10000.0,10000.0,10000.0,10000.0,10000.0,10000.0,10000.0,10000.0,10000.0,10000.0,10000.0,10000.0],[10000.0,10832.427551,10000.0,10000.0,10000.0,10000.0,10000.0,10000.0,10000.0,10000.0,10000.0,10000.0,10000.0,10000.0,10000.0,10000.0,10000.0,10000.0,10000.0,10000.0,10000.0,10000.0,10000.0],[10000.0,10000.0,13320.933331,10000.0,10000.0,10000.0,10000.0,10000.0,10000.0,10000.0,10000.0,10000.0,10000.0,10000.0,10000.0,10000.0,10000.0,10000.0,10000.0,10000.0,10000.0,10000.0,10000.0],[10000.0,10000.0,10000.0,12991.326618,10000.0,10000.0,10000.0,10000.0,10000.0,10000.0,10000.0,10000.0,10000.0,10000.0,10000.0,10000.0,10000.0,10000.0,10000.0,10000.0,10000.0,10000.0,10000.0],[10000.0,10000.0,10000.0,10000.0,12176.569774,10000.0,10000.0,10000.0,10000.0,10000.0,10000.0,10000.0,10000.0,10000.0,10000.0,10000.0,10000.0,10000.0,10000.0,10000.0,10000.0,10000.0,10000.0],[10000.0,10000.0,10000.0,10000.0,10000.0,13320.812988,10000.0,10000.0,10000.0,10000.0,10000.0,10000.0,10000.0,10000.0,10000.0,10000.0,10000.0,10000.0,10000.0,10000.0,10000.0,10000.0,10000.0],[10000.0,10000.0,10000.0,10000.0,10000.0,10000.0,13319.811252,10000.0,10000.0,10000.0,10000.0,10000.0,10000.0,10000.0,10000.0,10000.0,10000.0,10000.0,10000.0,10000.0,10000.0,10000.0,10000.0],[10000.0,10000.0,10000.0,10000.0,10000.0,10000.0,10000.0,12992.571402,10000.0,10000.0,10000.0,10000.0,10000.0,10000.0,10000.0,10000.0,10000.0,10000.0,10000.0,10000.0,10000.0,10000.0,10000.0],[10000.0,10000.0,10000.0,10000.0,10000.0,10000.0,10000.0,10000.0,13322.264267,10000.0,10000.0,10000.0,10000.0,10000.0,10000.0,10000.0,10000.0,10000.0,10000.0,10000.0,10000.0,10000.0,10000.0],[10000.0,10000.0,10000.0,10000.0,10000.0,10000.0,10000.0,10000.0,10000.0,12390.328629,10000.0,10000.0,10000.0,10000.0,10000.0,10000.0,10000.0,10000.0,10000.0,10000.0,10000.0,10000.0,10000.0],[10000.0,10000.0,10000.0,10000.0,10000.0,10000.0,10000.0,10000.0,10000.0,10000.0,13321.403694,10000.0,10000.0,10000.0,10000.0,10000.0,10000.0,10000.0,10000.0,10000.0,10000.0,10000.0,10000.0],[10000.0,10000.0,10000.0,10000.0,10000.0,10000.0,10000.0,10000.0,10000.0,10000.0,10000.0,11705.311965,10000.0,10000.0,10000.0,10000.0,10000.0,10000.0,10000.0,10000.0,10000.0,10000.0,10000.0],[10000.0,10000.0,10000.0,10000.0,10000.0,10000.0,10000.0,10000.0,10000.0,10000.0,10000.0,10000.0,13319.304495,10000.0,10000.0,10000.0,10000.0,10000.0,10000.0,10000.0,10000.0,10000.0,10000.0],[10000.0,10000.0,10000.0,10000.0,10000.0,10000.0,10000.0,10000.0,10000.0,10000.0,10000.0,10000.0,10000.0,11127.718395,10000.0,10000.0,10000.0,10000.0,10000.0,10000.0,10000.0,10000.0,10000.0],[10000.0,10000.0,10000.0,10000.0,10000.0,10000.0,10000.0,10000.0,10000.0,10000.0,10000.0,10000.0,10000.0,10000.0,12388.756051,10000.0,10000.0,10000.0,10000.0,10000.0,10000.0,10000.0,10000.0],[10000.0,10000.0,10000.0,10000.0,10000.0,10000.0,10000.0,10000.0,10000.0,10000.0,10000.0,10000.0,10000.0,10000.0,10000.0,13319.166924000001,10000.0,10000.0,10000.0,10000.0,10000.0,10000.0,10000.0],[10000.0,10000.0,10000.0,10000.0,10000.0,10000.0,10000.0,10000.0,10000.0,10000.0,10000.0,10000.0,10000.0,10000.0,10000.0,10000.0,12990.977126,10000.0,10000.0,10000.0,10000.0,10000.0,10000.0],[10000.0,10000.0,10000.0,10000.0,10000.0,10000.0,10000.0,10000.0,10000.0,10000.0,10000.0,10000.0,10000.0,10000.0,10000.0,10000.0,10000.0,12370.913161,10000.0,10000.0,10000.0,10000.0,10000.0],[10000.0,10000.0,10000.0,10000.0,10000.0,10000.0,10000.0,10000.0,10000.0,10000.0,10000.0,10000.0,10000.0,10000.0,10000.0,10000.0,10000.0,10000.0,13320.359754000001,10000.0,10000.0,10000.0,10000.0],[10000.0,10000.0,10000.0,10000.0,10000.0,10000.0,10000.0,10000.0,10000.0,10000.0,10000.0,10000.0,10000.0,10000.0,10000.0,10000.0,10000.0,10000.0,10000.0,11706.674139,10000.0,10000.0,10000.0],[10000.0,10000.0,10000.0,10000.0,10000.0,10000.0,10000.0,10000.0,10000.0,10000.0,10000.0,10000.0,10000.0,10000.0,10000.0,10000.0,10000.0,10000.0,10000.0,10000.0,12391.274794,10000.0,10000.0],[10000.0,10000.0,10000.0,10000.0,10000.0,10000.0,10000.0,10000.0,10000.0,10000.0,10000.0,10000.0,10000.0,10000.0,10000.0,10000.0,10000.0,10000.0,10000.0,10000.0,10000.0,13321.274401,10000.0],[10000.0,10000.0,10000.0,10000.0,10000.0,10000.0,10000.0,10000.0,10000.0,10000.0,10000.0,10000.0,10000.0,10000.0,10000.0,10000.0,10000.0,10000.0,10000.0,10000.0,10000.0,10000.0,13315.026557000001]],\"type\":\"surface\"},{\"colorbar\":{\"tick0\":0,\"tickmode\":\"array\",\"tickvals\":[-5,0,5,10]},\"colorscale\":[[0,\"rgb(0, 0, 0)\"],[0.0001,\"rgb(50, 50, 50)\"],[0.001,\"rgb(100, 100, 100)\"],[0.01,\"rgb(150, 150, 150)\"],[0.1,\"rgb(200, 200, 200)\"],[1.0,\"rgb(255, 255, 255)\"]],\"showscale\":false,\"x\":[2.5158153334304227,0.2946077451959803,3.10736280556613,2.2418904624786977,0.9482690817281607,4.332114269272702,1.6903510917897102,2.147920773980809,2.455756619765571,1.2120749838396896,4.428064554797291,1.0960705960705959,4.048105541091474,0.1827106227106226,0.8984345479082322,2.4160999784529196,1.6825118508942039,0.5820013320013319,7.545470462256367,0.8754545454545454,0.9260012923093417,8.935336532718415,1.6331821034890084],\"y\":[3.999999999999999,0.9999999999999997,4.153846153846153,2.5625,1.7499999999999996,4.64705882352941,3.2,2.4117647058823524,3.2666666666666657,1.6315789473684208,3.952380952380951,1.7499999999999998,3.499999999999999,0.857142857142857,1.1904761904761905,1.9130434782608694,2.2857142857142856,1.1428571428571428,3.589743589743589,1.0,1.3333333333333328,3.1200000000000006,1.9375],\"z\":[[19330.174222,15000.0,15000.0,15000.0,15000.0,15000.0,15000.0,15000.0,15000.0,15000.0,15000.0,15000.0,15000.0,15000.0,15000.0,15000.0,15000.0,15000.0,15000.0,15000.0,15000.0,15000.0,15000.0],[15000.0,16115.427551,15000.0,15000.0,15000.0,15000.0,15000.0,15000.0,15000.0,15000.0,15000.0,15000.0,15000.0,15000.0,15000.0,15000.0,15000.0,15000.0,15000.0,15000.0,15000.0,15000.0,15000.0],[15000.0,15000.0,19331.933331,15000.0,15000.0,15000.0,15000.0,15000.0,15000.0,15000.0,15000.0,15000.0,15000.0,15000.0,15000.0,15000.0,15000.0,15000.0,15000.0,15000.0,15000.0,15000.0,15000.0],[15000.0,15000.0,15000.0,19166.326618,15000.0,15000.0,15000.0,15000.0,15000.0,15000.0,15000.0,15000.0,15000.0,15000.0,15000.0,15000.0,15000.0,15000.0,15000.0,15000.0,15000.0,15000.0,15000.0],[15000.0,15000.0,15000.0,15000.0,18033.569774,15000.0,15000.0,15000.0,15000.0,15000.0,15000.0,15000.0,15000.0,15000.0,15000.0,15000.0,15000.0,15000.0,15000.0,15000.0,15000.0,15000.0,15000.0],[15000.0,15000.0,15000.0,15000.0,15000.0,19331.812987999998,15000.0,15000.0,15000.0,15000.0,15000.0,15000.0,15000.0,15000.0,15000.0,15000.0,15000.0,15000.0,15000.0,15000.0,15000.0,15000.0,15000.0],[15000.0,15000.0,15000.0,15000.0,15000.0,15000.0,19329.811252,15000.0,15000.0,15000.0,15000.0,15000.0,15000.0,15000.0,15000.0,15000.0,15000.0,15000.0,15000.0,15000.0,15000.0,15000.0,15000.0],[15000.0,15000.0,15000.0,15000.0,15000.0,15000.0,15000.0,19163.571402,15000.0,15000.0,15000.0,15000.0,15000.0,15000.0,15000.0,15000.0,15000.0,15000.0,15000.0,15000.0,15000.0,15000.0,15000.0],[15000.0,15000.0,15000.0,15000.0,15000.0,15000.0,15000.0,15000.0,19330.264267,15000.0,15000.0,15000.0,15000.0,15000.0,15000.0,15000.0,15000.0,15000.0,15000.0,15000.0,15000.0,15000.0,15000.0],[15000.0,15000.0,15000.0,15000.0,15000.0,15000.0,15000.0,15000.0,15000.0,18135.328629,15000.0,15000.0,15000.0,15000.0,15000.0,15000.0,15000.0,15000.0,15000.0,15000.0,15000.0,15000.0,15000.0],[15000.0,15000.0,15000.0,15000.0,15000.0,15000.0,15000.0,15000.0,15000.0,15000.0,19331.403694,15000.0,15000.0,15000.0,15000.0,15000.0,15000.0,15000.0,15000.0,15000.0,15000.0,15000.0,15000.0],[15000.0,15000.0,15000.0,15000.0,15000.0,15000.0,15000.0,15000.0,15000.0,15000.0,15000.0,17295.311965,15000.0,15000.0,15000.0,15000.0,15000.0,15000.0,15000.0,15000.0,15000.0,15000.0,15000.0],[15000.0,15000.0,15000.0,15000.0,15000.0,15000.0,15000.0,15000.0,15000.0,15000.0,15000.0,15000.0,19331.304495,15000.0,15000.0,15000.0,15000.0,15000.0,15000.0,15000.0,15000.0,15000.0,15000.0],[15000.0,15000.0,15000.0,15000.0,15000.0,15000.0,15000.0,15000.0,15000.0,15000.0,15000.0,15000.0,15000.0,16372.718395,15000.0,15000.0,15000.0,15000.0,15000.0,15000.0,15000.0,15000.0,15000.0],[15000.0,15000.0,15000.0,15000.0,15000.0,15000.0,15000.0,15000.0,15000.0,15000.0,15000.0,15000.0,15000.0,15000.0,18135.756051,15000.0,15000.0,15000.0,15000.0,15000.0,15000.0,15000.0,15000.0],[15000.0,15000.0,15000.0,15000.0,15000.0,15000.0,15000.0,15000.0,15000.0,15000.0,15000.0,15000.0,15000.0,15000.0,15000.0,19329.166924,15000.0,15000.0,15000.0,15000.0,15000.0,15000.0,15000.0],[15000.0,15000.0,15000.0,15000.0,15000.0,15000.0,15000.0,15000.0,15000.0,15000.0,15000.0,15000.0,15000.0,15000.0,15000.0,15000.0,19159.977125999998,15000.0,15000.0,15000.0,15000.0,15000.0,15000.0],[15000.0,15000.0,15000.0,15000.0,15000.0,15000.0,15000.0,15000.0,15000.0,15000.0,15000.0,15000.0,15000.0,15000.0,15000.0,15000.0,15000.0,17942.913161,15000.0,15000.0,15000.0,15000.0,15000.0],[15000.0,15000.0,15000.0,15000.0,15000.0,15000.0,15000.0,15000.0,15000.0,15000.0,15000.0,15000.0,15000.0,15000.0,15000.0,15000.0,15000.0,15000.0,19332.359754,15000.0,15000.0,15000.0,15000.0],[15000.0,15000.0,15000.0,15000.0,15000.0,15000.0,15000.0,15000.0,15000.0,15000.0,15000.0,15000.0,15000.0,15000.0,15000.0,15000.0,15000.0,15000.0,15000.0,17295.674139,15000.0,15000.0,15000.0],[15000.0,15000.0,15000.0,15000.0,15000.0,15000.0,15000.0,15000.0,15000.0,15000.0,15000.0,15000.0,15000.0,15000.0,15000.0,15000.0,15000.0,15000.0,15000.0,15000.0,18130.274794,15000.0,15000.0],[15000.0,15000.0,15000.0,15000.0,15000.0,15000.0,15000.0,15000.0,15000.0,15000.0,15000.0,15000.0,15000.0,15000.0,15000.0,15000.0,15000.0,15000.0,15000.0,15000.0,15000.0,19332.274401000002,15000.0],[15000.0,15000.0,15000.0,15000.0,15000.0,15000.0,15000.0,15000.0,15000.0,15000.0,15000.0,15000.0,15000.0,15000.0,15000.0,15000.0,15000.0,15000.0,15000.0,15000.0,15000.0,15000.0,19328.026557]],\"type\":\"surface\"},{\"colorbar\":{\"tick0\":0,\"tickmode\":\"array\",\"tickvals\":[-5,0,5,10]},\"colorscale\":[[0,\"rgb(0, 0, 0)\"],[0.0001,\"rgb(50, 50, 50)\"],[0.001,\"rgb(100, 100, 100)\"],[0.01,\"rgb(150, 150, 150)\"],[0.1,\"rgb(200, 200, 200)\"],[1.0,\"rgb(255, 255, 255)\"]],\"showscale\":false,\"x\":[2.5158153334304227,0.2946077451959803,3.10736280556613,2.2418904624786977,0.9482690817281607,4.332114269272702,1.6903510917897102,2.147920773980809,2.455756619765571,1.2120749838396896,4.428064554797291,1.0960705960705959,4.048105541091474,0.1827106227106226,0.8984345479082322,2.4160999784529196,1.6825118508942039,0.5820013320013319,7.545470462256367,0.8754545454545454,0.9260012923093417,8.935336532718415,1.6331821034890084],\"y\":[3.999999999999999,0.9999999999999997,4.153846153846153,2.5625,1.7499999999999996,4.64705882352941,3.2,2.4117647058823524,3.2666666666666657,1.6315789473684208,3.952380952380951,1.7499999999999998,3.499999999999999,0.857142857142857,1.1904761904761905,1.9130434782608694,2.2857142857142856,1.1428571428571428,3.589743589743589,1.0,1.3333333333333328,3.1200000000000006,1.9375],\"z\":[[25342.174222,20000.0,20000.0,20000.0,20000.0,20000.0,20000.0,20000.0,20000.0,20000.0,20000.0,20000.0,20000.0,20000.0,20000.0,20000.0,20000.0,20000.0,20000.0,20000.0,20000.0,20000.0,20000.0],[20000.0,21423.427551,20000.0,20000.0,20000.0,20000.0,20000.0,20000.0,20000.0,20000.0,20000.0,20000.0,20000.0,20000.0,20000.0,20000.0,20000.0,20000.0,20000.0,20000.0,20000.0,20000.0,20000.0],[20000.0,20000.0,25338.933331,20000.0,20000.0,20000.0,20000.0,20000.0,20000.0,20000.0,20000.0,20000.0,20000.0,20000.0,20000.0,20000.0,20000.0,20000.0,20000.0,20000.0,20000.0,20000.0,20000.0],[20000.0,20000.0,20000.0,25328.326618,20000.0,20000.0,20000.0,20000.0,20000.0,20000.0,20000.0,20000.0,20000.0,20000.0,20000.0,20000.0,20000.0,20000.0,20000.0,20000.0,20000.0,20000.0,20000.0],[20000.0,20000.0,20000.0,20000.0,23863.569774,20000.0,20000.0,20000.0,20000.0,20000.0,20000.0,20000.0,20000.0,20000.0,20000.0,20000.0,20000.0,20000.0,20000.0,20000.0,20000.0,20000.0,20000.0],[20000.0,20000.0,20000.0,20000.0,20000.0,25339.812987999998,20000.0,20000.0,20000.0,20000.0,20000.0,20000.0,20000.0,20000.0,20000.0,20000.0,20000.0,20000.0,20000.0,20000.0,20000.0,20000.0,20000.0],[20000.0,20000.0,20000.0,20000.0,20000.0,20000.0,25336.811252,20000.0,20000.0,20000.0,20000.0,20000.0,20000.0,20000.0,20000.0,20000.0,20000.0,20000.0,20000.0,20000.0,20000.0,20000.0,20000.0],[20000.0,20000.0,20000.0,20000.0,20000.0,20000.0,20000.0,25327.571402,20000.0,20000.0,20000.0,20000.0,20000.0,20000.0,20000.0,20000.0,20000.0,20000.0,20000.0,20000.0,20000.0,20000.0,20000.0],[20000.0,20000.0,20000.0,20000.0,20000.0,20000.0,20000.0,20000.0,25341.264267,20000.0,20000.0,20000.0,20000.0,20000.0,20000.0,20000.0,20000.0,20000.0,20000.0,20000.0,20000.0,20000.0,20000.0],[20000.0,20000.0,20000.0,20000.0,20000.0,20000.0,20000.0,20000.0,20000.0,23910.328629,20000.0,20000.0,20000.0,20000.0,20000.0,20000.0,20000.0,20000.0,20000.0,20000.0,20000.0,20000.0,20000.0],[20000.0,20000.0,20000.0,20000.0,20000.0,20000.0,20000.0,20000.0,20000.0,20000.0,25341.403694,20000.0,20000.0,20000.0,20000.0,20000.0,20000.0,20000.0,20000.0,20000.0,20000.0,20000.0,20000.0],[20000.0,20000.0,20000.0,20000.0,20000.0,20000.0,20000.0,20000.0,20000.0,20000.0,20000.0,22878.311965,20000.0,20000.0,20000.0,20000.0,20000.0,20000.0,20000.0,20000.0,20000.0,20000.0,20000.0],[20000.0,20000.0,20000.0,20000.0,20000.0,20000.0,20000.0,20000.0,20000.0,20000.0,20000.0,20000.0,25340.304495,20000.0,20000.0,20000.0,20000.0,20000.0,20000.0,20000.0,20000.0,20000.0,20000.0],[20000.0,20000.0,20000.0,20000.0,20000.0,20000.0,20000.0,20000.0,20000.0,20000.0,20000.0,20000.0,20000.0,21567.718395,20000.0,20000.0,20000.0,20000.0,20000.0,20000.0,20000.0,20000.0,20000.0],[20000.0,20000.0,20000.0,20000.0,20000.0,20000.0,20000.0,20000.0,20000.0,20000.0,20000.0,20000.0,20000.0,20000.0,23911.756051,20000.0,20000.0,20000.0,20000.0,20000.0,20000.0,20000.0,20000.0],[20000.0,20000.0,20000.0,20000.0,20000.0,20000.0,20000.0,20000.0,20000.0,20000.0,20000.0,20000.0,20000.0,20000.0,20000.0,25340.166924,20000.0,20000.0,20000.0,20000.0,20000.0,20000.0,20000.0],[20000.0,20000.0,20000.0,20000.0,20000.0,20000.0,20000.0,20000.0,20000.0,20000.0,20000.0,20000.0,20000.0,20000.0,20000.0,20000.0,25328.977125999998,20000.0,20000.0,20000.0,20000.0,20000.0,20000.0],[20000.0,20000.0,20000.0,20000.0,20000.0,20000.0,20000.0,20000.0,20000.0,20000.0,20000.0,20000.0,20000.0,20000.0,20000.0,20000.0,20000.0,23526.913161,20000.0,20000.0,20000.0,20000.0,20000.0],[20000.0,20000.0,20000.0,20000.0,20000.0,20000.0,20000.0,20000.0,20000.0,20000.0,20000.0,20000.0,20000.0,20000.0,20000.0,20000.0,20000.0,20000.0,25342.359754,20000.0,20000.0,20000.0,20000.0],[20000.0,20000.0,20000.0,20000.0,20000.0,20000.0,20000.0,20000.0,20000.0,20000.0,20000.0,20000.0,20000.0,20000.0,20000.0,20000.0,20000.0,20000.0,20000.0,22874.674139,20000.0,20000.0,20000.0],[20000.0,20000.0,20000.0,20000.0,20000.0,20000.0,20000.0,20000.0,20000.0,20000.0,20000.0,20000.0,20000.0,20000.0,20000.0,20000.0,20000.0,20000.0,20000.0,20000.0,23898.274794,20000.0,20000.0],[20000.0,20000.0,20000.0,20000.0,20000.0,20000.0,20000.0,20000.0,20000.0,20000.0,20000.0,20000.0,20000.0,20000.0,20000.0,20000.0,20000.0,20000.0,20000.0,20000.0,20000.0,25341.274401000002,20000.0],[20000.0,20000.0,20000.0,20000.0,20000.0,20000.0,20000.0,20000.0,20000.0,20000.0,20000.0,20000.0,20000.0,20000.0,20000.0,20000.0,20000.0,20000.0,20000.0,20000.0,20000.0,20000.0,25341.026557]],\"type\":\"surface\"}],                        {\"template\":{\"data\":{\"bar\":[{\"error_x\":{\"color\":\"#2a3f5f\"},\"error_y\":{\"color\":\"#2a3f5f\"},\"marker\":{\"line\":{\"color\":\"#E5ECF6\",\"width\":0.5},\"pattern\":{\"fillmode\":\"overlay\",\"size\":10,\"solidity\":0.2}},\"type\":\"bar\"}],\"barpolar\":[{\"marker\":{\"line\":{\"color\":\"#E5ECF6\",\"width\":0.5},\"pattern\":{\"fillmode\":\"overlay\",\"size\":10,\"solidity\":0.2}},\"type\":\"barpolar\"}],\"carpet\":[{\"aaxis\":{\"endlinecolor\":\"#2a3f5f\",\"gridcolor\":\"white\",\"linecolor\":\"white\",\"minorgridcolor\":\"white\",\"startlinecolor\":\"#2a3f5f\"},\"baxis\":{\"endlinecolor\":\"#2a3f5f\",\"gridcolor\":\"white\",\"linecolor\":\"white\",\"minorgridcolor\":\"white\",\"startlinecolor\":\"#2a3f5f\"},\"type\":\"carpet\"}],\"choropleth\":[{\"colorbar\":{\"outlinewidth\":0,\"ticks\":\"\"},\"type\":\"choropleth\"}],\"contour\":[{\"colorbar\":{\"outlinewidth\":0,\"ticks\":\"\"},\"colorscale\":[[0.0,\"#0d0887\"],[0.1111111111111111,\"#46039f\"],[0.2222222222222222,\"#7201a8\"],[0.3333333333333333,\"#9c179e\"],[0.4444444444444444,\"#bd3786\"],[0.5555555555555556,\"#d8576b\"],[0.6666666666666666,\"#ed7953\"],[0.7777777777777778,\"#fb9f3a\"],[0.8888888888888888,\"#fdca26\"],[1.0,\"#f0f921\"]],\"type\":\"contour\"}],\"contourcarpet\":[{\"colorbar\":{\"outlinewidth\":0,\"ticks\":\"\"},\"type\":\"contourcarpet\"}],\"heatmap\":[{\"colorbar\":{\"outlinewidth\":0,\"ticks\":\"\"},\"colorscale\":[[0.0,\"#0d0887\"],[0.1111111111111111,\"#46039f\"],[0.2222222222222222,\"#7201a8\"],[0.3333333333333333,\"#9c179e\"],[0.4444444444444444,\"#bd3786\"],[0.5555555555555556,\"#d8576b\"],[0.6666666666666666,\"#ed7953\"],[0.7777777777777778,\"#fb9f3a\"],[0.8888888888888888,\"#fdca26\"],[1.0,\"#f0f921\"]],\"type\":\"heatmap\"}],\"heatmapgl\":[{\"colorbar\":{\"outlinewidth\":0,\"ticks\":\"\"},\"colorscale\":[[0.0,\"#0d0887\"],[0.1111111111111111,\"#46039f\"],[0.2222222222222222,\"#7201a8\"],[0.3333333333333333,\"#9c179e\"],[0.4444444444444444,\"#bd3786\"],[0.5555555555555556,\"#d8576b\"],[0.6666666666666666,\"#ed7953\"],[0.7777777777777778,\"#fb9f3a\"],[0.8888888888888888,\"#fdca26\"],[1.0,\"#f0f921\"]],\"type\":\"heatmapgl\"}],\"histogram\":[{\"marker\":{\"pattern\":{\"fillmode\":\"overlay\",\"size\":10,\"solidity\":0.2}},\"type\":\"histogram\"}],\"histogram2d\":[{\"colorbar\":{\"outlinewidth\":0,\"ticks\":\"\"},\"colorscale\":[[0.0,\"#0d0887\"],[0.1111111111111111,\"#46039f\"],[0.2222222222222222,\"#7201a8\"],[0.3333333333333333,\"#9c179e\"],[0.4444444444444444,\"#bd3786\"],[0.5555555555555556,\"#d8576b\"],[0.6666666666666666,\"#ed7953\"],[0.7777777777777778,\"#fb9f3a\"],[0.8888888888888888,\"#fdca26\"],[1.0,\"#f0f921\"]],\"type\":\"histogram2d\"}],\"histogram2dcontour\":[{\"colorbar\":{\"outlinewidth\":0,\"ticks\":\"\"},\"colorscale\":[[0.0,\"#0d0887\"],[0.1111111111111111,\"#46039f\"],[0.2222222222222222,\"#7201a8\"],[0.3333333333333333,\"#9c179e\"],[0.4444444444444444,\"#bd3786\"],[0.5555555555555556,\"#d8576b\"],[0.6666666666666666,\"#ed7953\"],[0.7777777777777778,\"#fb9f3a\"],[0.8888888888888888,\"#fdca26\"],[1.0,\"#f0f921\"]],\"type\":\"histogram2dcontour\"}],\"mesh3d\":[{\"colorbar\":{\"outlinewidth\":0,\"ticks\":\"\"},\"type\":\"mesh3d\"}],\"parcoords\":[{\"line\":{\"colorbar\":{\"outlinewidth\":0,\"ticks\":\"\"}},\"type\":\"parcoords\"}],\"pie\":[{\"automargin\":true,\"type\":\"pie\"}],\"scatter\":[{\"marker\":{\"colorbar\":{\"outlinewidth\":0,\"ticks\":\"\"}},\"type\":\"scatter\"}],\"scatter3d\":[{\"line\":{\"colorbar\":{\"outlinewidth\":0,\"ticks\":\"\"}},\"marker\":{\"colorbar\":{\"outlinewidth\":0,\"ticks\":\"\"}},\"type\":\"scatter3d\"}],\"scattercarpet\":[{\"marker\":{\"colorbar\":{\"outlinewidth\":0,\"ticks\":\"\"}},\"type\":\"scattercarpet\"}],\"scattergeo\":[{\"marker\":{\"colorbar\":{\"outlinewidth\":0,\"ticks\":\"\"}},\"type\":\"scattergeo\"}],\"scattergl\":[{\"marker\":{\"colorbar\":{\"outlinewidth\":0,\"ticks\":\"\"}},\"type\":\"scattergl\"}],\"scattermapbox\":[{\"marker\":{\"colorbar\":{\"outlinewidth\":0,\"ticks\":\"\"}},\"type\":\"scattermapbox\"}],\"scatterpolar\":[{\"marker\":{\"colorbar\":{\"outlinewidth\":0,\"ticks\":\"\"}},\"type\":\"scatterpolar\"}],\"scatterpolargl\":[{\"marker\":{\"colorbar\":{\"outlinewidth\":0,\"ticks\":\"\"}},\"type\":\"scatterpolargl\"}],\"scatterternary\":[{\"marker\":{\"colorbar\":{\"outlinewidth\":0,\"ticks\":\"\"}},\"type\":\"scatterternary\"}],\"surface\":[{\"colorbar\":{\"outlinewidth\":0,\"ticks\":\"\"},\"colorscale\":[[0.0,\"#0d0887\"],[0.1111111111111111,\"#46039f\"],[0.2222222222222222,\"#7201a8\"],[0.3333333333333333,\"#9c179e\"],[0.4444444444444444,\"#bd3786\"],[0.5555555555555556,\"#d8576b\"],[0.6666666666666666,\"#ed7953\"],[0.7777777777777778,\"#fb9f3a\"],[0.8888888888888888,\"#fdca26\"],[1.0,\"#f0f921\"]],\"type\":\"surface\"}],\"table\":[{\"cells\":{\"fill\":{\"color\":\"#EBF0F8\"},\"line\":{\"color\":\"white\"}},\"header\":{\"fill\":{\"color\":\"#C8D4E3\"},\"line\":{\"color\":\"white\"}},\"type\":\"table\"}]},\"layout\":{\"annotationdefaults\":{\"arrowcolor\":\"#2a3f5f\",\"arrowhead\":0,\"arrowwidth\":1},\"autotypenumbers\":\"strict\",\"coloraxis\":{\"colorbar\":{\"outlinewidth\":0,\"ticks\":\"\"}},\"colorscale\":{\"diverging\":[[0,\"#8e0152\"],[0.1,\"#c51b7d\"],[0.2,\"#de77ae\"],[0.3,\"#f1b6da\"],[0.4,\"#fde0ef\"],[0.5,\"#f7f7f7\"],[0.6,\"#e6f5d0\"],[0.7,\"#b8e186\"],[0.8,\"#7fbc41\"],[0.9,\"#4d9221\"],[1,\"#276419\"]],\"sequential\":[[0.0,\"#0d0887\"],[0.1111111111111111,\"#46039f\"],[0.2222222222222222,\"#7201a8\"],[0.3333333333333333,\"#9c179e\"],[0.4444444444444444,\"#bd3786\"],[0.5555555555555556,\"#d8576b\"],[0.6666666666666666,\"#ed7953\"],[0.7777777777777778,\"#fb9f3a\"],[0.8888888888888888,\"#fdca26\"],[1.0,\"#f0f921\"]],\"sequentialminus\":[[0.0,\"#0d0887\"],[0.1111111111111111,\"#46039f\"],[0.2222222222222222,\"#7201a8\"],[0.3333333333333333,\"#9c179e\"],[0.4444444444444444,\"#bd3786\"],[0.5555555555555556,\"#d8576b\"],[0.6666666666666666,\"#ed7953\"],[0.7777777777777778,\"#fb9f3a\"],[0.8888888888888888,\"#fdca26\"],[1.0,\"#f0f921\"]]},\"colorway\":[\"#636efa\",\"#EF553B\",\"#00cc96\",\"#ab63fa\",\"#FFA15A\",\"#19d3f3\",\"#FF6692\",\"#B6E880\",\"#FF97FF\",\"#FECB52\"],\"font\":{\"color\":\"#2a3f5f\"},\"geo\":{\"bgcolor\":\"white\",\"lakecolor\":\"white\",\"landcolor\":\"#E5ECF6\",\"showlakes\":true,\"showland\":true,\"subunitcolor\":\"white\"},\"hoverlabel\":{\"align\":\"left\"},\"hovermode\":\"closest\",\"mapbox\":{\"style\":\"light\"},\"paper_bgcolor\":\"white\",\"plot_bgcolor\":\"#E5ECF6\",\"polar\":{\"angularaxis\":{\"gridcolor\":\"white\",\"linecolor\":\"white\",\"ticks\":\"\"},\"bgcolor\":\"#E5ECF6\",\"radialaxis\":{\"gridcolor\":\"white\",\"linecolor\":\"white\",\"ticks\":\"\"}},\"scene\":{\"xaxis\":{\"backgroundcolor\":\"#E5ECF6\",\"gridcolor\":\"white\",\"gridwidth\":2,\"linecolor\":\"white\",\"showbackground\":true,\"ticks\":\"\",\"zerolinecolor\":\"white\"},\"yaxis\":{\"backgroundcolor\":\"#E5ECF6\",\"gridcolor\":\"white\",\"gridwidth\":2,\"linecolor\":\"white\",\"showbackground\":true,\"ticks\":\"\",\"zerolinecolor\":\"white\"},\"zaxis\":{\"backgroundcolor\":\"#E5ECF6\",\"gridcolor\":\"white\",\"gridwidth\":2,\"linecolor\":\"white\",\"showbackground\":true,\"ticks\":\"\",\"zerolinecolor\":\"white\"}},\"shapedefaults\":{\"line\":{\"color\":\"#2a3f5f\"}},\"ternary\":{\"aaxis\":{\"gridcolor\":\"white\",\"linecolor\":\"white\",\"ticks\":\"\"},\"baxis\":{\"gridcolor\":\"white\",\"linecolor\":\"white\",\"ticks\":\"\"},\"bgcolor\":\"#E5ECF6\",\"caxis\":{\"gridcolor\":\"white\",\"linecolor\":\"white\",\"ticks\":\"\"}},\"title\":{\"x\":0.05},\"xaxis\":{\"automargin\":true,\"gridcolor\":\"white\",\"linecolor\":\"white\",\"ticks\":\"\",\"title\":{\"standoff\":15},\"zerolinecolor\":\"white\",\"zerolinewidth\":2},\"yaxis\":{\"automargin\":true,\"gridcolor\":\"white\",\"linecolor\":\"white\",\"ticks\":\"\",\"title\":{\"standoff\":15},\"zerolinecolor\":\"white\",\"zerolinewidth\":2}}},\"scene\":{\"camera\":{\"eye\":{\"x\":-2,\"y\":-2,\"z\":0.05}}},\"width\":1000,\"height\":1000},                        {\"scrollZoom\": false, \"responsive\": true}                    )                };                            </script>        </div>\n",
       "</body>\n",
       "</html>"
      ],
      "text/plain": [
       "<IPython.core.display.HTML object>"
      ]
     },
     "execution_count": 368,
     "metadata": {},
     "output_type": "execute_result"
    }
   ],
   "source": [
    "import plotly.graph_objects as go\n",
    "\n",
    "_colorscale=[\n",
    "        [0, 'rgb(0, 0, 0)'],\n",
    "        [1./10000, 'rgb(50, 50, 50)'],\n",
    "        [1./1000, 'rgb(100, 100, 100)'],\n",
    "        [1./100, 'rgb(150, 150, 150)'],\n",
    "        [1./10, 'rgb(200, 200, 200)'],\n",
    "        [1., 'rgb(255, 255, 255)'],\n",
    "        ]\n",
    "_colorbar= dict(\n",
    "        tick0= 0,\n",
    "        tickmode= 'array',\n",
    "        tickvals= [-5, 0, 5, 10])\n",
    "\n",
    "_mode ='wrap'\n",
    "_filter = np.array([1,1])*0.5\n",
    "\n",
    "_z1 = np.diag(hst.snowygrounds[:,0])+0\n",
    "_z2 = np.diag(hst.snowygrounds[:,20000])+5000\n",
    "_z3 = np.diag(hst.snowygrounds[:,40000])+10000\n",
    "_z4 = np.diag(hst.snowygrounds[:,60000])+15000\n",
    "_z5 = np.diag(hst.snowygrounds[:,80000])+20000\n",
    "\n",
    "# _z1=scipy.ndimage.filters.gaussian_filter(_z1, _filter, mode=_mode) \n",
    "# _z2=scipy.ndimage.filters.gaussian_filter(_z2, _filter, mode=_mode)\n",
    "# _z3=scipy.ndimage.filters.gaussian_filter(_z3, _filter, mode=_mode)\n",
    "# _z4=scipy.ndimage.filters.gaussian_filter(_z4, _filter, mode=_mode)\n",
    "\n",
    "\n",
    "fig = go.Figure([go.Surface(x = df.conlink, y = df.divlink, z = _z1, colorscale=_colorscale, colorbar=_colorbar, showscale=False),\n",
    "                 go.Surface(x = df.conlink, y = df.divlink, z = _z2, colorscale=_colorscale, colorbar=_colorbar, showscale=False),\n",
    "                 go.Surface(x = df.conlink, y = df.divlink, z = _z3, colorscale=_colorscale, colorbar=_colorbar, showscale=False),\n",
    "                 go.Surface(x = df.conlink, y = df.divlink, z = _z4, colorscale=_colorscale, colorbar=_colorbar, showscale=False),\n",
    "                 go.Surface(x = df.conlink, y = df.divlink, z = _z5, colorscale=_colorscale, colorbar=_colorbar, showscale=False)])\n",
    "fig.update_layout(width=1000,height=1000, scene_camera_eye=dict(x=-2, y=-2, z=0.05))\n",
    "show(fig)\n",
    "fig.write_image('2022-01-13-snow.pdf')  "
   ]
  },
  {
   "cell_type": "markdown",
   "metadata": {},
   "source": [
    "### R 환경으로.. "
   ]
  },
  {
   "cell_type": "code",
   "execution_count": 8,
   "metadata": {},
   "outputs": [
    {
     "name": "stdout",
     "output_type": "stream",
     "text": [
      "The rpy2.ipython extension is already loaded. To reload it, use:\n",
      "  %reload_ext rpy2.ipython\n"
     ]
    }
   ],
   "source": [
    "import rpy2 \n",
    "%load_ext rpy2.ipython"
   ]
  },
  {
   "cell_type": "code",
   "execution_count": 16,
   "metadata": {},
   "outputs": [],
   "source": [
    "n=hst.n \n",
    "V=hst.V\n",
    "f=hst.f \n",
    "WEuclid= hst.euclidweight\n",
    "Wgraph= (hst.graphweight+hst.graphweight.T)/2\n",
    "Whst= hst.snowweight\n",
    "W= hst.graphweight"
   ]
  },
  {
   "cell_type": "code",
   "execution_count": 90,
   "metadata": {},
   "outputs": [],
   "source": [
    "%R -i n\n",
    "%R -i V\n",
    "%R -i f\n",
    "%R -i WEuclid\n",
    "%R -i Wgraph\n",
    "%R -i Whst\n",
    "%R -i W"
   ]
  },
  {
   "cell_type": "markdown",
   "metadata": {
    "tags": []
   },
   "source": [
    "### 유클리드와 그래프도메인의 정보를 플랏. "
   ]
  },
  {
   "cell_type": "code",
   "execution_count": 162,
   "metadata": {},
   "outputs": [
    {
     "name": "stderr",
     "output_type": "stream",
     "text": [
      "R[write to console]: Error in viewer(index_html) : \n",
      "  'browser' must be a non-empty character string\n",
      "\n"
     ]
    },
    {
     "ename": "RRuntimeError",
     "evalue": "Error in viewer(index_html) : \n  'browser' must be a non-empty character string\n",
     "output_type": "error",
     "traceback": [
      "\u001b[0;31m---------------------------------------------------------------------------\u001b[0m",
      "\u001b[0;31mRRuntimeError\u001b[0m                             Traceback (most recent call last)",
      "\u001b[0;32m<ipython-input-162-2478e7b8eac6>\u001b[0m in \u001b[0;36m<module>\u001b[0;34m\u001b[0m\n\u001b[0;32m----> 1\u001b[0;31m \u001b[0mget_ipython\u001b[0m\u001b[0;34m(\u001b[0m\u001b[0;34m)\u001b[0m\u001b[0;34m.\u001b[0m\u001b[0mrun_cell_magic\u001b[0m\u001b[0;34m(\u001b[0m\u001b[0;34m'R'\u001b[0m\u001b[0;34m,\u001b[0m \u001b[0;34m''\u001b[0m\u001b[0;34m,\u001b[0m \u001b[0;34m'library(plotly)\\nfig <- plot_ly(z = ~volcano)\\nfig <- fig %>% add_surface()\\n\\nfig\\n'\u001b[0m\u001b[0;34m)\u001b[0m\u001b[0;34m\u001b[0m\u001b[0;34m\u001b[0m\u001b[0m\n\u001b[0m",
      "\u001b[0;32m~/anaconda3/envs/py39r40/lib/python3.9/site-packages/IPython/core/interactiveshell.py\u001b[0m in \u001b[0;36mrun_cell_magic\u001b[0;34m(self, magic_name, line, cell)\u001b[0m\n\u001b[1;32m   2417\u001b[0m             \u001b[0;32mwith\u001b[0m \u001b[0mself\u001b[0m\u001b[0;34m.\u001b[0m\u001b[0mbuiltin_trap\u001b[0m\u001b[0;34m:\u001b[0m\u001b[0;34m\u001b[0m\u001b[0;34m\u001b[0m\u001b[0m\n\u001b[1;32m   2418\u001b[0m                 \u001b[0margs\u001b[0m \u001b[0;34m=\u001b[0m \u001b[0;34m(\u001b[0m\u001b[0mmagic_arg_s\u001b[0m\u001b[0;34m,\u001b[0m \u001b[0mcell\u001b[0m\u001b[0;34m)\u001b[0m\u001b[0;34m\u001b[0m\u001b[0;34m\u001b[0m\u001b[0m\n\u001b[0;32m-> 2419\u001b[0;31m                 \u001b[0mresult\u001b[0m \u001b[0;34m=\u001b[0m \u001b[0mfn\u001b[0m\u001b[0;34m(\u001b[0m\u001b[0;34m*\u001b[0m\u001b[0margs\u001b[0m\u001b[0;34m,\u001b[0m \u001b[0;34m**\u001b[0m\u001b[0mkwargs\u001b[0m\u001b[0;34m)\u001b[0m\u001b[0;34m\u001b[0m\u001b[0;34m\u001b[0m\u001b[0m\n\u001b[0m\u001b[1;32m   2420\u001b[0m             \u001b[0;32mreturn\u001b[0m \u001b[0mresult\u001b[0m\u001b[0;34m\u001b[0m\u001b[0;34m\u001b[0m\u001b[0m\n\u001b[1;32m   2421\u001b[0m \u001b[0;34m\u001b[0m\u001b[0m\n",
      "\u001b[0;32m~/anaconda3/envs/py39r40/lib/python3.9/site-packages/decorator.py\u001b[0m in \u001b[0;36mfun\u001b[0;34m(*args, **kw)\u001b[0m\n\u001b[1;32m    230\u001b[0m             \u001b[0;32mif\u001b[0m \u001b[0;32mnot\u001b[0m \u001b[0mkwsyntax\u001b[0m\u001b[0;34m:\u001b[0m\u001b[0;34m\u001b[0m\u001b[0;34m\u001b[0m\u001b[0m\n\u001b[1;32m    231\u001b[0m                 \u001b[0margs\u001b[0m\u001b[0;34m,\u001b[0m \u001b[0mkw\u001b[0m \u001b[0;34m=\u001b[0m \u001b[0mfix\u001b[0m\u001b[0;34m(\u001b[0m\u001b[0margs\u001b[0m\u001b[0;34m,\u001b[0m \u001b[0mkw\u001b[0m\u001b[0;34m,\u001b[0m \u001b[0msig\u001b[0m\u001b[0;34m)\u001b[0m\u001b[0;34m\u001b[0m\u001b[0;34m\u001b[0m\u001b[0m\n\u001b[0;32m--> 232\u001b[0;31m             \u001b[0;32mreturn\u001b[0m \u001b[0mcaller\u001b[0m\u001b[0;34m(\u001b[0m\u001b[0mfunc\u001b[0m\u001b[0;34m,\u001b[0m \u001b[0;34m*\u001b[0m\u001b[0;34m(\u001b[0m\u001b[0mextras\u001b[0m \u001b[0;34m+\u001b[0m \u001b[0margs\u001b[0m\u001b[0;34m)\u001b[0m\u001b[0;34m,\u001b[0m \u001b[0;34m**\u001b[0m\u001b[0mkw\u001b[0m\u001b[0;34m)\u001b[0m\u001b[0;34m\u001b[0m\u001b[0;34m\u001b[0m\u001b[0m\n\u001b[0m\u001b[1;32m    233\u001b[0m     \u001b[0mfun\u001b[0m\u001b[0;34m.\u001b[0m\u001b[0m__name__\u001b[0m \u001b[0;34m=\u001b[0m \u001b[0mfunc\u001b[0m\u001b[0;34m.\u001b[0m\u001b[0m__name__\u001b[0m\u001b[0;34m\u001b[0m\u001b[0;34m\u001b[0m\u001b[0m\n\u001b[1;32m    234\u001b[0m     \u001b[0mfun\u001b[0m\u001b[0;34m.\u001b[0m\u001b[0m__doc__\u001b[0m \u001b[0;34m=\u001b[0m \u001b[0mfunc\u001b[0m\u001b[0;34m.\u001b[0m\u001b[0m__doc__\u001b[0m\u001b[0;34m\u001b[0m\u001b[0;34m\u001b[0m\u001b[0m\n",
      "\u001b[0;32m~/anaconda3/envs/py39r40/lib/python3.9/site-packages/IPython/core/magic.py\u001b[0m in \u001b[0;36m<lambda>\u001b[0;34m(f, *a, **k)\u001b[0m\n\u001b[1;32m    185\u001b[0m     \u001b[0;31m# but it's overkill for just that one bit of state.\u001b[0m\u001b[0;34m\u001b[0m\u001b[0;34m\u001b[0m\u001b[0m\n\u001b[1;32m    186\u001b[0m     \u001b[0;32mdef\u001b[0m \u001b[0mmagic_deco\u001b[0m\u001b[0;34m(\u001b[0m\u001b[0marg\u001b[0m\u001b[0;34m)\u001b[0m\u001b[0;34m:\u001b[0m\u001b[0;34m\u001b[0m\u001b[0;34m\u001b[0m\u001b[0m\n\u001b[0;32m--> 187\u001b[0;31m         \u001b[0mcall\u001b[0m \u001b[0;34m=\u001b[0m \u001b[0;32mlambda\u001b[0m \u001b[0mf\u001b[0m\u001b[0;34m,\u001b[0m \u001b[0;34m*\u001b[0m\u001b[0ma\u001b[0m\u001b[0;34m,\u001b[0m \u001b[0;34m**\u001b[0m\u001b[0mk\u001b[0m\u001b[0;34m:\u001b[0m \u001b[0mf\u001b[0m\u001b[0;34m(\u001b[0m\u001b[0;34m*\u001b[0m\u001b[0ma\u001b[0m\u001b[0;34m,\u001b[0m \u001b[0;34m**\u001b[0m\u001b[0mk\u001b[0m\u001b[0;34m)\u001b[0m\u001b[0;34m\u001b[0m\u001b[0;34m\u001b[0m\u001b[0m\n\u001b[0m\u001b[1;32m    188\u001b[0m \u001b[0;34m\u001b[0m\u001b[0m\n\u001b[1;32m    189\u001b[0m         \u001b[0;32mif\u001b[0m \u001b[0mcallable\u001b[0m\u001b[0;34m(\u001b[0m\u001b[0marg\u001b[0m\u001b[0;34m)\u001b[0m\u001b[0;34m:\u001b[0m\u001b[0;34m\u001b[0m\u001b[0;34m\u001b[0m\u001b[0m\n",
      "\u001b[0;32m~/anaconda3/envs/py39r40/lib/python3.9/site-packages/rpy2/ipython/rmagic.py\u001b[0m in \u001b[0;36mR\u001b[0;34m(self, line, cell, local_ns)\u001b[0m\n\u001b[1;32m    773\u001b[0m                                                \u001b[0;34m'consolewrite_print'\u001b[0m\u001b[0;34m,\u001b[0m\u001b[0;34m\u001b[0m\u001b[0;34m\u001b[0m\u001b[0m\n\u001b[1;32m    774\u001b[0m                                                self.write_console_regular))\n\u001b[0;32m--> 775\u001b[0;31m                         \u001b[0mcell_display\u001b[0m\u001b[0;34m(\u001b[0m\u001b[0mresult\u001b[0m\u001b[0;34m,\u001b[0m \u001b[0margs\u001b[0m\u001b[0;34m)\u001b[0m\u001b[0;34m\u001b[0m\u001b[0;34m\u001b[0m\u001b[0m\n\u001b[0m\u001b[1;32m    776\u001b[0m                         \u001b[0mtext_output\u001b[0m \u001b[0;34m+=\u001b[0m \u001b[0mself\u001b[0m\u001b[0;34m.\u001b[0m\u001b[0mflush\u001b[0m\u001b[0;34m(\u001b[0m\u001b[0;34m)\u001b[0m\u001b[0;34m\u001b[0m\u001b[0;34m\u001b[0m\u001b[0m\n\u001b[1;32m    777\u001b[0m \u001b[0;34m\u001b[0m\u001b[0m\n",
      "\u001b[0;32m~/anaconda3/envs/py39r40/lib/python3.9/site-packages/rpy2/ipython/rmagic.py\u001b[0m in \u001b[0;36mCELL_DISPLAY_DEFAULT\u001b[0;34m(res, args)\u001b[0m\n\u001b[1;32m    108\u001b[0m \u001b[0;34m\u001b[0m\u001b[0m\n\u001b[1;32m    109\u001b[0m \u001b[0;32mdef\u001b[0m \u001b[0mCELL_DISPLAY_DEFAULT\u001b[0m\u001b[0;34m(\u001b[0m\u001b[0mres\u001b[0m\u001b[0;34m,\u001b[0m \u001b[0margs\u001b[0m\u001b[0;34m)\u001b[0m\u001b[0;34m:\u001b[0m\u001b[0;34m\u001b[0m\u001b[0;34m\u001b[0m\u001b[0m\n\u001b[0;32m--> 110\u001b[0;31m     \u001b[0;32mreturn\u001b[0m \u001b[0mro\u001b[0m\u001b[0;34m.\u001b[0m\u001b[0mr\u001b[0m\u001b[0;34m.\u001b[0m\u001b[0mshow\u001b[0m\u001b[0;34m(\u001b[0m\u001b[0mres\u001b[0m\u001b[0;34m)\u001b[0m\u001b[0;34m\u001b[0m\u001b[0;34m\u001b[0m\u001b[0m\n\u001b[0m\u001b[1;32m    111\u001b[0m \u001b[0;34m\u001b[0m\u001b[0m\n\u001b[1;32m    112\u001b[0m \u001b[0;34m\u001b[0m\u001b[0m\n",
      "\u001b[0;32m~/anaconda3/envs/py39r40/lib/python3.9/site-packages/rpy2/robjects/functions.py\u001b[0m in \u001b[0;36m__call__\u001b[0;34m(self, *args, **kwargs)\u001b[0m\n\u001b[1;32m    196\u001b[0m                 \u001b[0mv\u001b[0m \u001b[0;34m=\u001b[0m \u001b[0mkwargs\u001b[0m\u001b[0;34m.\u001b[0m\u001b[0mpop\u001b[0m\u001b[0;34m(\u001b[0m\u001b[0mk\u001b[0m\u001b[0;34m)\u001b[0m\u001b[0;34m\u001b[0m\u001b[0;34m\u001b[0m\u001b[0m\n\u001b[1;32m    197\u001b[0m                 \u001b[0mkwargs\u001b[0m\u001b[0;34m[\u001b[0m\u001b[0mr_k\u001b[0m\u001b[0;34m]\u001b[0m \u001b[0;34m=\u001b[0m \u001b[0mv\u001b[0m\u001b[0;34m\u001b[0m\u001b[0;34m\u001b[0m\u001b[0m\n\u001b[0;32m--> 198\u001b[0;31m         return (super(SignatureTranslatedFunction, self)\n\u001b[0m\u001b[1;32m    199\u001b[0m                 .__call__(*args, **kwargs))\n\u001b[1;32m    200\u001b[0m \u001b[0;34m\u001b[0m\u001b[0m\n",
      "\u001b[0;32m~/anaconda3/envs/py39r40/lib/python3.9/site-packages/rpy2/robjects/functions.py\u001b[0m in \u001b[0;36m__call__\u001b[0;34m(self, *args, **kwargs)\u001b[0m\n\u001b[1;32m    123\u001b[0m             \u001b[0;32melse\u001b[0m\u001b[0;34m:\u001b[0m\u001b[0;34m\u001b[0m\u001b[0;34m\u001b[0m\u001b[0m\n\u001b[1;32m    124\u001b[0m                 \u001b[0mnew_kwargs\u001b[0m\u001b[0;34m[\u001b[0m\u001b[0mk\u001b[0m\u001b[0;34m]\u001b[0m \u001b[0;34m=\u001b[0m \u001b[0mconversion\u001b[0m\u001b[0;34m.\u001b[0m\u001b[0mpy2rpy\u001b[0m\u001b[0;34m(\u001b[0m\u001b[0mv\u001b[0m\u001b[0;34m)\u001b[0m\u001b[0;34m\u001b[0m\u001b[0;34m\u001b[0m\u001b[0m\n\u001b[0;32m--> 125\u001b[0;31m         \u001b[0mres\u001b[0m \u001b[0;34m=\u001b[0m \u001b[0msuper\u001b[0m\u001b[0;34m(\u001b[0m\u001b[0mFunction\u001b[0m\u001b[0;34m,\u001b[0m \u001b[0mself\u001b[0m\u001b[0;34m)\u001b[0m\u001b[0;34m.\u001b[0m\u001b[0m__call__\u001b[0m\u001b[0;34m(\u001b[0m\u001b[0;34m*\u001b[0m\u001b[0mnew_args\u001b[0m\u001b[0;34m,\u001b[0m \u001b[0;34m**\u001b[0m\u001b[0mnew_kwargs\u001b[0m\u001b[0;34m)\u001b[0m\u001b[0;34m\u001b[0m\u001b[0;34m\u001b[0m\u001b[0m\n\u001b[0m\u001b[1;32m    126\u001b[0m         \u001b[0mres\u001b[0m \u001b[0;34m=\u001b[0m \u001b[0mconversion\u001b[0m\u001b[0;34m.\u001b[0m\u001b[0mrpy2py\u001b[0m\u001b[0;34m(\u001b[0m\u001b[0mres\u001b[0m\u001b[0;34m)\u001b[0m\u001b[0;34m\u001b[0m\u001b[0;34m\u001b[0m\u001b[0m\n\u001b[1;32m    127\u001b[0m         \u001b[0;32mreturn\u001b[0m \u001b[0mres\u001b[0m\u001b[0;34m\u001b[0m\u001b[0;34m\u001b[0m\u001b[0m\n",
      "\u001b[0;32m~/anaconda3/envs/py39r40/lib/python3.9/site-packages/rpy2/rinterface_lib/conversion.py\u001b[0m in \u001b[0;36m_\u001b[0;34m(*args, **kwargs)\u001b[0m\n\u001b[1;32m     43\u001b[0m \u001b[0;32mdef\u001b[0m \u001b[0m_cdata_res_to_rinterface\u001b[0m\u001b[0;34m(\u001b[0m\u001b[0mfunction\u001b[0m\u001b[0;34m)\u001b[0m\u001b[0;34m:\u001b[0m\u001b[0;34m\u001b[0m\u001b[0;34m\u001b[0m\u001b[0m\n\u001b[1;32m     44\u001b[0m     \u001b[0;32mdef\u001b[0m \u001b[0m_\u001b[0m\u001b[0;34m(\u001b[0m\u001b[0;34m*\u001b[0m\u001b[0margs\u001b[0m\u001b[0;34m,\u001b[0m \u001b[0;34m**\u001b[0m\u001b[0mkwargs\u001b[0m\u001b[0;34m)\u001b[0m\u001b[0;34m:\u001b[0m\u001b[0;34m\u001b[0m\u001b[0;34m\u001b[0m\u001b[0m\n\u001b[0;32m---> 45\u001b[0;31m         \u001b[0mcdata\u001b[0m \u001b[0;34m=\u001b[0m \u001b[0mfunction\u001b[0m\u001b[0;34m(\u001b[0m\u001b[0;34m*\u001b[0m\u001b[0margs\u001b[0m\u001b[0;34m,\u001b[0m \u001b[0;34m**\u001b[0m\u001b[0mkwargs\u001b[0m\u001b[0;34m)\u001b[0m\u001b[0;34m\u001b[0m\u001b[0;34m\u001b[0m\u001b[0m\n\u001b[0m\u001b[1;32m     46\u001b[0m         \u001b[0;31m# TODO: test cdata is of the expected CType\u001b[0m\u001b[0;34m\u001b[0m\u001b[0;34m\u001b[0m\u001b[0m\n\u001b[1;32m     47\u001b[0m         \u001b[0;32mreturn\u001b[0m \u001b[0m_cdata_to_rinterface\u001b[0m\u001b[0;34m(\u001b[0m\u001b[0mcdata\u001b[0m\u001b[0;34m)\u001b[0m\u001b[0;34m\u001b[0m\u001b[0;34m\u001b[0m\u001b[0m\n",
      "\u001b[0;32m~/anaconda3/envs/py39r40/lib/python3.9/site-packages/rpy2/rinterface.py\u001b[0m in \u001b[0;36m__call__\u001b[0;34m(self, *args, **kwargs)\u001b[0m\n\u001b[1;32m    678\u001b[0m             )\n\u001b[1;32m    679\u001b[0m             \u001b[0;32mif\u001b[0m \u001b[0merror_occured\u001b[0m\u001b[0;34m[\u001b[0m\u001b[0;36m0\u001b[0m\u001b[0;34m]\u001b[0m\u001b[0;34m:\u001b[0m\u001b[0;34m\u001b[0m\u001b[0;34m\u001b[0m\u001b[0m\n\u001b[0;32m--> 680\u001b[0;31m                 \u001b[0;32mraise\u001b[0m \u001b[0membedded\u001b[0m\u001b[0;34m.\u001b[0m\u001b[0mRRuntimeError\u001b[0m\u001b[0;34m(\u001b[0m\u001b[0m_rinterface\u001b[0m\u001b[0;34m.\u001b[0m\u001b[0m_geterrmessage\u001b[0m\u001b[0;34m(\u001b[0m\u001b[0;34m)\u001b[0m\u001b[0;34m)\u001b[0m\u001b[0;34m\u001b[0m\u001b[0;34m\u001b[0m\u001b[0m\n\u001b[0m\u001b[1;32m    681\u001b[0m         \u001b[0;32mreturn\u001b[0m \u001b[0mres\u001b[0m\u001b[0;34m\u001b[0m\u001b[0;34m\u001b[0m\u001b[0m\n\u001b[1;32m    682\u001b[0m \u001b[0;34m\u001b[0m\u001b[0m\n",
      "\u001b[0;31mRRuntimeError\u001b[0m: Error in viewer(index_html) : \n  'browser' must be a non-empty character string\n"
     ]
    }
   ],
   "source": [
    "%%R\n",
    "library(plotly)\n",
    "fig <- plot_ly(z = ~volcano)\n",
    "fig <- fig %>% add_surface()\n",
    "\n",
    "fig"
   ]
  },
  {
   "cell_type": "code",
   "execution_count": 132,
   "metadata": {},
   "outputs": [
    {
     "name": "stdout",
     "output_type": "stream",
     "text": [
      "# A tibble: 23 × 6\n",
      "   V                                       f divlink conlink  link type \n",
      "   <chr>                               <dbl>   <dbl>   <dbl> <dbl> <chr>\n",
      " 1 Iron Man                             585.    4      2.52  3.26  solo \n",
      " 2 The Incredible Hulk                  263.    1      0.295 0.647 solo \n",
      " 3 Iron Man 2                           624.    4.15   3.11  3.63  solo \n",
      " 4 Thor                                 449.    2.56   2.24  2.40  solo \n",
      " 5 Captain America: The First Avenger   371.    1.75   0.948 1.35  solo \n",
      " 6 The Avengers                        1519.    4.65   4.33  4.49  multi\n",
      " 7 Iron Man 3                          1215.    3.2    1.69  2.45  solo \n",
      " 8 Thor: The Dark World                 645.    2.41   2.15  2.28  solo \n",
      " 9 Captain America: The Winter Soldier  714.    3.27   2.46  2.86  solo \n",
      "10 Guardians of the Galaxy              773.    1.63   1.21  1.42  solo \n",
      "# … with 13 more rows\n"
     ]
    }
   ],
   "source": [
    "%%R \n",
    "source('heavysnow.R')\n",
    "df<-tibble(V)\n",
    "df$f<-as.vector(f)\n",
    "df$divlink<-0\n",
    "df$conlink<-0\n",
    "df$link<-0\n",
    "for(i in 1:23){\n",
    "    df$divlink[i]<-sum(W[i,])\n",
    "    df$conlink[i]<-sum(W[,i])\n",
    "    df$link[i]<-(sum(W[i,])+sum(W[,i]))/2\n",
    "}\n",
    "df$type<-rep('solo',23)\n",
    "df[V %in% c(\"The Avengers\" ,\"Avengers: Age of Ultron\",\"Captain America: Civil War\",\"Avengers: Infinity War\",\"Avengers: Endgame\"),'type']='multi'\n",
    "df"
   ]
  },
  {
   "cell_type": "markdown",
   "metadata": {},
   "source": [
    "`-` geom_coutour_filled() 복습 "
   ]
  },
  {
   "cell_type": "code",
   "execution_count": 133,
   "metadata": {},
   "outputs": [
    {
     "data": {
      "image/png": "[encoded data removed]"
     },
     "metadata": {},
     "output_type": "display_data"
    }
   ],
   "source": [
    "%%R \n",
    "df_ = tibble(x=c(1,1,2,2),y=c(1,2,1,2),z=c(0,1,2,3)) ## 데이터는 항상 격자모양이어야함 \n",
    "v <- ggplot(df_, aes(x, y, z = z))\n",
    "v + geom_contour_filled() "
   ]
  },
  {
   "cell_type": "markdown",
   "metadata": {},
   "source": [
    "`-` df의 데이터프레임 변형하여 플랏이 가능하도록 만들자. "
   ]
  },
  {
   "cell_type": "code",
   "execution_count": 134,
   "metadata": {},
   "outputs": [
    {
     "name": "stdout",
     "output_type": "stream",
     "text": [
      "# A tibble: 3,600 × 6\n",
      "   V         f divlink conlink  link type \n",
      "   <chr> <dbl>   <dbl>   <dbl> <dbl> <chr>\n",
      " 1 <NA>      0     0.8     0.1    NA <NA> \n",
      " 2 <NA>      0     0.9     0.1    NA <NA> \n",
      " 3 <NA>      0     1       0.1    NA <NA> \n",
      " 4 <NA>      0     1.1     0.1    NA <NA> \n",
      " 5 <NA>      0     1.2     0.1    NA <NA> \n",
      " 6 <NA>      0     1.3     0.1    NA <NA> \n",
      " 7 <NA>      0     1.4     0.1    NA <NA> \n",
      " 8 <NA>      0     1.5     0.1    NA <NA> \n",
      " 9 <NA>      0     1.6     0.1    NA <NA> \n",
      "10 <NA>      0     1.7     0.1    NA <NA> \n",
      "# … with 3,590 more rows\n"
     ]
    }
   ],
   "source": [
    "%%R \n",
    "df$divlink = round(df$divlink,1)\n",
    "df$conlink = round(df$conlink,1)\n",
    "div_ranges_= range(df$divlink)\n",
    "con_ranges_= range(df$conlink)\n",
    "df_=expand.grid(seq(div_ranges_[1]-0.1,div_ranges_[2]+0.1,by=0.1),seq(con_ranges_[1]-0.1,con_ranges_[2]+0.1,by=0.1))\n",
    "names(df_)=c('divlink','conlink')\n",
    "df_$f=0 \n",
    "df_$V=NA\n",
    "df_$link=NA\n",
    "df_$type=NA\n",
    "df_=tibble(V=df_$V,f=df_$f,divlink=df_$divlink,conlink=df_$conlink,link=df_$link,type=df_$type)\n",
    "for(i in 1:23){\n",
    "    df_[abs(df_$divlink - df[i,]$divlink)<0.1 & abs(df_$conlink - df[i,]$conlink)<0.1,] <- df[i,]\n",
    "}\n",
    "df_"
   ]
  },
  {
   "cell_type": "code",
   "execution_count": 158,
   "metadata": {},
   "outputs": [
    {
     "data": {
      "image/png": "[encoded data removed]"
     },
     "metadata": {},
     "output_type": "display_data"
    }
   ],
   "source": [
    "%%R \n",
    "p1<-ggplot(df_, aes(x=conlink, y=divlink,z=f))\n",
    "    #geom_point(aes(x=conlink,y=divlink,size=f**2,shape=type),col='hotpink1',stroke=3)+\n",
    "    #scale_size(range=c(2,30))+\n",
    "    #scale_alpha_manual(values=c(1,0.6))+\n",
    "    #scale_shape_manual(values=c(11,1))+\n",
    "    #theme_light()+\n",
    "    #geom_text_repel(aes(x=conlink,y=divlink,label=V),col=\"gray40\")+\n",
    "    \n",
    "    #geom_density2d(aes(x=conlink,y=divlink,fill=tatf,color=f)),+\n",
    "    #ylab(\"Out-degree\")+xlab(\"In-degree\")+\n",
    "    #ggtitle(\"\")+theme(plot.title=element_text(face=\"bold.italic\",size=rel(2)))+\n",
    "    #theme(axis.title.x=element_text(face=4,size=rel(1)))+theme(axis.title.y=element_text(face=4,size=rel(1)))\n",
    "    #theme(legend.position = \"none\")+\n",
    "show(p1)\n",
    "ggsave(plot=p1,\"./2021-12-10-p1.pdf\",width=15,height=10)"
   ]
  },
  {
   "cell_type": "code",
   "execution_count": 15,
   "metadata": {},
   "outputs": [
    {
     "name": "stdout",
     "output_type": "stream",
     "text": [
      "# A tibble: 23 × 6\n",
      "   V                                       f divlink conlink  link type \n",
      "   <chr>                               <dbl>   <dbl>   <dbl> <dbl> <chr>\n",
      " 1 Iron Man                             585.    4       2.52 3.26  solo \n",
      " 2 The Incredible Hulk                  263.    1       0.29 0.647 solo \n",
      " 3 Iron Man 2                           624.    4.15    3.11 3.63  solo \n",
      " 4 Thor                                 449.    2.56    2.24 2.40  solo \n",
      " 5 Captain America: The First Avenger   371.    1.75    0.95 1.35  solo \n",
      " 6 The Avengers                        1519.    4.65    4.33 4.49  multi\n",
      " 7 Iron Man 3                          1215.    3.2     1.69 2.45  solo \n",
      " 8 Thor: The Dark World                 645.    2.41    2.15 2.28  solo \n",
      " 9 Captain America: The Winter Soldier  714.    3.27    2.46 2.86  solo \n",
      "10 Guardians of the Galaxy              773.    1.63    1.21 1.42  solo \n",
      "# … with 13 more rows\n"
     ]
    }
   ],
   "source": [
    "%%R \n",
    "df"
   ]
  },
  {
   "cell_type": "markdown",
   "metadata": {},
   "source": [
    "### gfft 수행하고 결과를 저장함. "
   ]
  },
  {
   "cell_type": "code",
   "execution_count": null,
   "metadata": {},
   "outputs": [],
   "source": [
    "%%R \n",
    "g1<-gfft(f,WEuclid)\n",
    "g2<-gfft(f,Wgraph)\n",
    "g3<-gfft(f,Whst)"
   ]
  },
  {
   "cell_type": "markdown",
   "metadata": {},
   "source": [
    "### 아이겐플랏 \n"
   ]
  },
  {
   "cell_type": "code",
   "execution_count": null,
   "metadata": {},
   "outputs": [],
   "source": [
    "%%R \n",
    "library(gridExtra)\n",
    "e1<-eigenplot(g1)+theme(plot.title=element_text(face=\"bold.italic\",size=rel(1)))\n",
    "e2<-eigenplot(g2)+theme(plot.title=element_text(face=\"bold.italic\",size=rel(1)))\n",
    "e3<-eigenplot(g3)+theme(plot.title=element_text(face=\"bold.italic\",size=rel(1)))\n",
    "s1<-specplot(g1)\n",
    "s2<-specplot(g2)\n",
    "s3<-specplot(g3)\n",
    "p2<-grid.arrange(e1,e2,e3,s1,s2,s3,nrow=2)\n",
    "ggsave(plot=p2,\"./2021-12-10-p2.pdf\",width=5,height=3)"
   ]
  },
  {
   "cell_type": "markdown",
   "metadata": {},
   "source": [
    "### 분해 "
   ]
  },
  {
   "cell_type": "code",
   "execution_count": null,
   "metadata": {},
   "outputs": [],
   "source": [
    "%%R\n",
    "d1<-decompose(f,WEuclid,V=V) # 0, 35000, 60000, 80000\n",
    "d2<-decompose(f,Wgraph,V=V) # 0, 35000, 60000, 80000\n",
    "d3<-decompose(f,Whst,V=V) # 0, 35000, 60000, 80000\n",
    "\n",
    "d1$case<-\"Euclid\"\n",
    "d2$case<-\"Graph\"\n",
    "d3$case<-\"HST\"\n",
    ".df2 <-rbind(d1,d2,d3)\n",
    ".df2 %>% group_by(case,eigenvectorindex) #%>% mutate(textsize= 10*(abs(fhat)>70))\n",
    "df2=merge(df, .df2 %>% group_by(case,eigenvectorindex) %>% mutate(textsize= 10*(abs(fhat)>70))) %>% as_tibble\n",
    "df2"
   ]
  },
  {
   "cell_type": "code",
   "execution_count": null,
   "metadata": {},
   "outputs": [],
   "source": [
    "%%R -r 150 -w 1000 -h 5000\n",
    "        \n",
    "p3<-ggplot(data=filter(df2,eigenvectorindex %in% 1:23, case=='HST'))+\n",
    "    geom_col(aes(x=Vindex,y=fhat,fill=fhat>0),width=0.7)+\n",
    "    geom_text_repel(aes(x=Vindex,y=fhat,label=V,size=textsize),col=1,fontface=4,alpha=0.8,segment.size=0.2,segment.color=\"gray60\",min.segment.length=5,hjust=0.1)+\n",
    "    scale_radius(range = c(0,1.8))+\n",
    "    guides(size=FALSE)+\n",
    "    facet_wrap(\"eigenvectorindex\",ncol=1)+\n",
    "    geom_hline(aes(yintercept=0),col=\"gray60\",lty=2)+\n",
    "    xlab(\"\")+ylab(\"\")+guides(fill=FALSE)+\n",
    "    theme(axis.text.x=element_text(angle=85,hjust=1,vjust=1,face=4,size=rel(0.7),colour=\"gray60\"))+\n",
    "    theme_light()+\n",
    "    theme(strip.text.x = element_text(size = 10, color = \"black\", face = \"bold.italic\"))+\n",
    "    theme(strip.text.y = element_text(size = 10, color = \"black\", face = \"bold.italic\"))+\n",
    "    theme(plot.title=element_text(face=\"bold.italic\",size=rel(1.5)))\n",
    "show(p3)\n",
    "ggsave(plot=p3,\"./2021-12-10-p3.pdf\",width=10,height=15)"
   ]
  },
  {
   "cell_type": "code",
   "execution_count": null,
   "metadata": {},
   "outputs": [],
   "source": []
  }
 ],
 "metadata": {
  "kernelspec": {
   "display_name": "Python 3",
   "language": "python",
   "name": "python3"
  },
  "language_info": {
   "codemirror_mode": {
    "name": "ipython",
    "version": 3
   },
   "file_extension": ".py",
   "mimetype": "text/x-python",
   "name": "python",
   "nbconvert_exporter": "python",
   "pygments_lexer": "ipython3",
   "version": "3.9.7"
  },
  "widgets": {
   "application/vnd.jupyter.widget-state+json": {
    "state": {},
    "version_major": 2,
    "version_minor": 0
   }
  }
 },
 "nbformat": 4,
 "nbformat_minor": 4
}
