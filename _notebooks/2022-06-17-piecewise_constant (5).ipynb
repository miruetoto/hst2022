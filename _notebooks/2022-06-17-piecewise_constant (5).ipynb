{
 "cells": [
  {
   "cell_type": "markdown",
   "id": "72909a10-15f2-4dd6-a696-5a12d8d40f75",
   "metadata": {},
   "source": [
    "# Denoising -- piecewise constant, sigma==1 (5)"
   ]
  },
  {
   "cell_type": "code",
   "execution_count": 1,
   "id": "072fa3be-d9cf-4e57-9a8a-e482fcfc86a7",
   "metadata": {},
   "outputs": [],
   "source": [
    "from pygsp import graphs, filters, plotting\n",
    "import numpy as np"
   ]
  },
  {
   "cell_type": "code",
   "execution_count": 2,
   "id": "46964edc-6917-411c-9300-19fdc4ae0eb5",
   "metadata": {},
   "outputs": [],
   "source": [
    "import numpy as np\n",
    "import pandas as pd\n",
    "import matplotlib.pyplot as plt\n",
    "%run heavysnow"
   ]
  },
  {
   "cell_type": "code",
   "execution_count": 3,
   "id": "ac658634-9dc0-4bba-ae0a-8a1147fa29e5",
   "metadata": {},
   "outputs": [],
   "source": [
    "G = graphs.Logo()\n",
    "rs = np.random.RandomState(42)  # Reproducible results.\n",
    "ftrue = np.zeros(G.N)\n",
    "ftrue[G.info['idx_g']-1] = -3\n",
    "ftrue[G.info['idx_s']-1] = 0\n",
    "ftrue[G.info['idx_p']-1] = 3\n",
    "fnosied = ftrue + rs.normal(size=G.N)"
   ]
  },
  {
   "cell_type": "code",
   "execution_count": 4,
   "id": "4f25be46-ccb6-4300-99d3-52569b70adf1",
   "metadata": {},
   "outputs": [],
   "source": [
    "W=G.W.toarray()"
   ]
  },
  {
   "cell_type": "code",
   "execution_count": 5,
   "id": "11931fd9-98c6-45e2-bf56-274f652238f5",
   "metadata": {},
   "outputs": [],
   "source": [
    "V= list(range(1,1131))\n",
    "gs=GraphSignal(V,W,fnosied)"
   ]
  },
  {
   "cell_type": "code",
   "execution_count": 6,
   "id": "ea144edc-c063-40d2-b213-796881da99c6",
   "metadata": {},
   "outputs": [],
   "source": [
    "hs=HeavysnowTransform(gs)"
   ]
  },
  {
   "cell_type": "code",
   "execution_count": 7,
   "id": "2ac24823-c400-4be8-86a7-44bd8364da13",
   "metadata": {},
   "outputs": [
    {
     "name": "stdout",
     "output_type": "stream",
     "text": [
      "HST (tau= 2000000, b=0.1)\n"
     ]
    },
    {
     "name": "stderr",
     "output_type": "stream",
     "text": [
      "  1%|          | 21642/2000000 [00:53<1:21:45, 403.31it/s]\n"
     ]
    },
    {
     "ename": "KeyboardInterrupt",
     "evalue": "",
     "output_type": "error",
     "traceback": [
      "\u001b[0;31m---------------------------------------------------------------------------\u001b[0m",
      "\u001b[0;31mKeyboardInterrupt\u001b[0m                         Traceback (most recent call last)",
      "Input \u001b[0;32mIn [7]\u001b[0m, in \u001b[0;36m<cell line: 1>\u001b[0;34m()\u001b[0m\n\u001b[0;32m----> 1\u001b[0m \u001b[43mhs\u001b[49m\u001b[38;5;241;43m.\u001b[39;49m\u001b[43msnow\u001b[49m\u001b[43m(\u001b[49m\u001b[43mtau\u001b[49m\u001b[38;5;241;43m=\u001b[39;49m\u001b[38;5;241;43m2000000\u001b[39;49m\u001b[43m,\u001b[49m\u001b[43mb\u001b[49m\u001b[38;5;241;43m=\u001b[39;49m\u001b[38;5;241;43m0.1\u001b[39;49m\u001b[43m)\u001b[49m\n",
      "File \u001b[0;32m~/Dropbox/03_projects/2022_hst/_notebooks/heavysnow.py:104\u001b[0m, in \u001b[0;36mHeavysnowTransform.snow\u001b[0;34m(self, tau, b, maxflow)\u001b[0m\n\u001b[1;32m    102\u001b[0m \u001b[38;5;28mprint\u001b[39m(\u001b[38;5;124m'\u001b[39m\u001b[38;5;124mHST (tau= \u001b[39m\u001b[38;5;132;01m%s\u001b[39;00m\u001b[38;5;124m, b=\u001b[39m\u001b[38;5;132;01m%s\u001b[39;00m\u001b[38;5;124m)\u001b[39m\u001b[38;5;124m'\u001b[39m \u001b[38;5;241m%\u001b[39m (\u001b[38;5;28mself\u001b[39m\u001b[38;5;241m.\u001b[39mtau,\u001b[38;5;28mself\u001b[39m\u001b[38;5;241m.\u001b[39mb))\n\u001b[1;32m    103\u001b[0m \u001b[38;5;28;01mfor\u001b[39;00m ell \u001b[38;5;129;01min\u001b[39;00m tqdm\u001b[38;5;241m.\u001b[39mtqdm(\u001b[38;5;28mrange\u001b[39m(\u001b[38;5;241m1\u001b[39m,\u001b[38;5;28mself\u001b[39m\u001b[38;5;241m.\u001b[39mtau\u001b[38;5;241m+\u001b[39m\u001b[38;5;241m1\u001b[39m)):\n\u001b[0;32m--> 104\u001b[0m     \u001b[38;5;28;43mself\u001b[39;49m\u001b[38;5;241;43m.\u001b[39;49m\u001b[43m_snowonce\u001b[49m\u001b[43m(\u001b[49m\u001b[43mell\u001b[49m\u001b[43m,\u001b[49m\u001b[43mmaxflow\u001b[49m\u001b[43m)\u001b[49m\n\u001b[1;32m    105\u001b[0m \u001b[38;5;28mprint\u001b[39m(\u001b[38;5;124m'\u001b[39m\u001b[38;5;124mCalculate distance and weights\u001b[39m\u001b[38;5;124m'\u001b[39m)\n\u001b[1;32m    106\u001b[0m \u001b[38;5;28mself\u001b[39m\u001b[38;5;241m.\u001b[39m_updatesnowdistance()\n",
      "File \u001b[0;32m~/Dropbox/03_projects/2022_hst/_notebooks/heavysnow.py:72\u001b[0m, in \u001b[0;36mHeavysnowTransform._snowonce\u001b[0;34m(self, ell, maxflow)\u001b[0m\n\u001b[1;32m     70\u001b[0m \u001b[38;5;28mself\u001b[39m\u001b[38;5;241m.\u001b[39msnowygrounds[\u001b[38;5;241m.\u001b[39m\u001b[38;5;241m.\u001b[39m\u001b[38;5;241m.\u001b[39m,ell]\u001b[38;5;241m=\u001b[39msnowyground\n\u001b[1;32m     71\u001b[0m \u001b[38;5;28mself\u001b[39m\u001b[38;5;241m.\u001b[39mflowcount\u001b[38;5;241m=\u001b[39m\u001b[38;5;28mself\u001b[39m\u001b[38;5;241m.\u001b[39mflowcount\u001b[38;5;241m+\u001b[39m[flowcount]\n\u001b[0;32m---> 72\u001b[0m \u001b[38;5;28mself\u001b[39m\u001b[38;5;241m.\u001b[39mtrajectory\u001b[38;5;241m=\u001b[39m\u001b[38;5;28mself\u001b[39m\u001b[38;5;241m.\u001b[39mtrajectory\u001b[38;5;241m+\u001b[39m[nextnode]\n",
      "\u001b[0;31mKeyboardInterrupt\u001b[0m: "
     ]
    }
   ],
   "source": [
    "hs.snow(tau=2000000,b=0.1)"
   ]
  },
  {
   "cell_type": "code",
   "execution_count": null,
   "id": "a4bda597-d318-4e60-aca4-80e0b18d2af9",
   "metadata": {},
   "outputs": [],
   "source": [
    "hs.adjustingtheta(1)\n",
    "Weuclid = hs.euclidweight\n",
    "W0 = (Weuclid>0.9)*1\n",
    "plt.imshow(W0)"
   ]
  },
  {
   "cell_type": "code",
   "execution_count": null,
   "id": "2ecbd213-0ad9-4660-9e36-699b2b914ab2",
   "metadata": {},
   "outputs": [],
   "source": [
    "hs.adjustingtheta(0.1)\n",
    "Wsnow= hs.snowweight\n",
    "Wtau = (Wsnow>0.975)*1"
   ]
  },
  {
   "cell_type": "code",
   "execution_count": null,
   "id": "ce496075-65f5-4a86-a85d-c9859c6e0ca8",
   "metadata": {},
   "outputs": [],
   "source": [
    "plt.imshow(Wtau)"
   ]
  },
  {
   "cell_type": "code",
   "execution_count": null,
   "id": "a6f9ef05-f16f-426e-80d3-9e80053a7696",
   "metadata": {},
   "outputs": [],
   "source": [
    "W.sum(),W0.sum(),Wtau.sum()"
   ]
  },
  {
   "cell_type": "code",
   "execution_count": null,
   "id": "5ef596d3-18c8-4ac0-aaae-304c682bef5f",
   "metadata": {},
   "outputs": [],
   "source": [
    "G0= graphs.Graph(W0)\n",
    "G0.estimate_lmax()\n",
    "Gtau= graphs.Graph(Wtau)\n",
    "Gtau.estimate_lmax()"
   ]
  },
  {
   "cell_type": "code",
   "execution_count": null,
   "id": "a3972168-2cfb-42c8-899f-23bc8a00580c",
   "metadata": {},
   "outputs": [],
   "source": [
    "tau=1\n",
    "k= lambda x: 1. / (1. + tau * x)\n",
    "g = filters.Filter(G, k)\n",
    "g0 = filters.Filter(G0, k)\n",
    "gtau = filters.Filter(Gtau, k)\n",
    "fdenoised = g.filter(fnosied)\n",
    "fdenoised0 = g0.filter(fnosied)\n",
    "fdenoisedtau = gtau.filter(fnosied)"
   ]
  },
  {
   "cell_type": "code",
   "execution_count": null,
   "id": "0e9c4b86-2f7d-4de8-ab6e-1e2ce3a5a58e",
   "metadata": {},
   "outputs": [],
   "source": [
    "plt.plot(ftrue)\n",
    "#plt.plot(fdenoised,'-r')\n",
    "plt.plot(fdenoised0,'-k')\n",
    "#plt.plot(fdenoisedtau,'-b')"
   ]
  },
  {
   "cell_type": "markdown",
   "id": "c921f8fd-dacd-4c64-ba71-bf0c381f0f39",
   "metadata": {},
   "source": [
    "### 시뮬"
   ]
  },
  {
   "cell_type": "code",
   "execution_count": null,
   "id": "b62d5548-d70d-41e8-9588-09ec43c3ca93",
   "metadata": {},
   "outputs": [],
   "source": [
    "np.sum((ftrue-fdenoised)**2), np.sum((ftrue-fdenoised0)**2), np.sum((ftrue-fdenoisedtau)**2)"
   ]
  },
  {
   "cell_type": "markdown",
   "id": "d1601899-928d-4ef9-91b6-3f1985cdd046",
   "metadata": {},
   "source": [
    "### 시각화"
   ]
  },
  {
   "cell_type": "code",
   "execution_count": null,
   "id": "b864dc09-c025-490a-8e46-e77cbdbbbd42",
   "metadata": {},
   "outputs": [],
   "source": [
    "plt.magma()\n",
    "fig, ax = plt.subplots(2,3, figsize=(30,9))\n",
    "G0.set_coordinates(G.coords)\n",
    "Gtau.set_coordinates(G.coords)\n",
    "G.plot_signal(ftrue, ax = ax[0][0],limits=[-4,4])\n",
    "G.plot_signal(fnosied, ax = ax[0][1],limits=[-4,4])\n",
    "\n",
    "G0.plot_signal(fdenoised0, ax = ax[1][0],limits=[-4,4],show_edges=False)\n",
    "G.plot_signal(fdenoised, ax = ax[1][1],limits=[-4,4],show_edges=False)\n",
    "Gtau.plot_signal(fdenoisedtau, ax = ax[1][2],limits=[-4,4],show_edges=False)\n",
    "\n",
    "ax[0][0].set_axis_off()\n",
    "ax[0][1].set_axis_off()\n",
    "ax[0][2].set_axis_off()\n",
    "ax[1][0].set_axis_off()\n",
    "ax[1][1].set_axis_off()\n",
    "ax[1][2].set_axis_off()\n",
    "\n",
    "fig.tight_layout()"
   ]
  }
 ],
 "metadata": {
  "kernelspec": {
   "display_name": "Python 3 (ipykernel)",
   "language": "python",
   "name": "python3"
  },
  "language_info": {
   "codemirror_mode": {
    "name": "ipython",
    "version": 3
   },
   "file_extension": ".py",
   "mimetype": "text/x-python",
   "name": "python",
   "nbconvert_exporter": "python",
   "pygments_lexer": "ipython3",
   "version": "3.9.10"
  }
 },
 "nbformat": 4,
 "nbformat_minor": 5
}
