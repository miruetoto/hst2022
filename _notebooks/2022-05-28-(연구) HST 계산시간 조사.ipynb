{
 "cells": [
  {
   "cell_type": "code",
   "execution_count": 7,
   "id": "4e2d3a89-7297-4b84-83aa-b46557539437",
   "metadata": {},
   "outputs": [
    {
     "name": "stdout",
     "output_type": "stream",
     "text": [
      "The rpy2.ipython extension is already loaded. To reload it, use:\n",
      "  %reload_ext rpy2.ipython\n"
     ]
    }
   ],
   "source": [
    "import numpy as np\n",
    "import pandas as pd\n",
    "import matplotlib.pyplot as plt\n",
    "import matplotlib\n",
    "matplotlib.rc('image', cmap='Greys')\n",
    "import rpy2 \n",
    "%load_ext rpy2.ipython\n",
    "%run pybase\n",
    "%run heavysnow \n",
    "import time"
   ]
  },
  {
   "cell_type": "code",
   "execution_count": 8,
   "id": "dbefdd16-93a5-4b03-a6d9-bf4e77ba9888",
   "metadata": {},
   "outputs": [],
   "source": [
    "f=np.random.normal(size=(1000,))\n",
    "n=len(f)\n",
    "V=list(range(n))\n",
    "W=np.zeros([n,n])\n",
    "for i in range(n):\n",
    "    for j in range(n):\n",
    "        if abs(i-j)==1: W[i,j]=1\n",
    "W[0,0]=0\n",
    "W[n-1,n-1]=0"
   ]
  },
  {
   "cell_type": "code",
   "execution_count": null,
   "id": "45570cf9-bdf8-4868-94c6-e8ddbcbae736",
   "metadata": {},
   "outputs": [
    {
     "name": "stdout",
     "output_type": "stream",
     "text": [
      "0,0\n",
      "0,1\n",
      "0,2\n",
      "0,3\n",
      "0,4\n",
      "0,5\n",
      "0,6\n",
      "0,7\n",
      "0,8\n",
      "0,9\n",
      "0,10\n",
      "0,11\n",
      "0,12\n",
      "0,13\n",
      "0,14\n",
      "0,15\n",
      "0,16\n",
      "0,17\n",
      "0,18\n",
      "0,19\n",
      "0,20\n",
      "0,21\n",
      "0,22\n",
      "0,23\n",
      "0,24\n",
      "0,25\n",
      "0,26\n",
      "0,27\n",
      "0,28\n",
      "0,29\n",
      "1,0\n",
      "1,1\n",
      "1,2\n",
      "1,3\n",
      "1,4\n",
      "1,5\n",
      "1,6\n",
      "1,7\n",
      "1,8\n",
      "1,9\n",
      "1,10\n",
      "1,13\n",
      "1,14\n",
      "1,15\n",
      "1,16\n",
      "1,17\n",
      "1,23\n"
     ]
    }
   ],
   "source": [
    "gs=GraphSignal(V,W,f)\n",
    "hst=HeavysnowTransform(gs)\n",
    "taus = [2*10**5,3*10**5,5*10**5] \n",
    "table = np.zeros([3,30])\n",
    "for t in range(3):\n",
    "    for j in range(30):\n",
    "        _start = time.time()\n",
    "        hst.snow2(tau=taus[t],b=1,maxflow=n)\n",
    "        _end = time.time() \n",
    "        table[t,j] = _end - _start\n",
    "        print(str(t)+','+str(j))"
   ]
  },
  {
   "cell_type": "code",
   "execution_count": null,
   "id": "3ecca2d8-bf2f-44d1-b97b-cb4893e0df46",
   "metadata": {},
   "outputs": [],
   "source": [
    "import pandas as pd"
   ]
  },
  {
   "cell_type": "code",
   "execution_count": null,
   "id": "e54cdfc8-df1a-41d2-92fe-b5872687327a",
   "metadata": {},
   "outputs": [],
   "source": [
    "pd.DataFrame(table).to_csv(\"table2.csv\")"
   ]
  },
  {
   "cell_type": "code",
   "execution_count": null,
   "id": "cc2a9ae8-302b-45a7-ae0d-97593b3c36d4",
   "metadata": {},
   "outputs": [],
   "source": []
  }
 ],
 "metadata": {
  "kernelspec": {
   "display_name": "Python 3 (ipykernel)",
   "language": "python",
   "name": "python3"
  },
  "language_info": {
   "codemirror_mode": {
    "name": "ipython",
    "version": 3
   },
   "file_extension": ".py",
   "mimetype": "text/x-python",
   "name": "python",
   "nbconvert_exporter": "python",
   "pygments_lexer": "ipython3",
   "version": "3.10.2"
  }
 },
 "nbformat": 4,
 "nbformat_minor": 5
}
