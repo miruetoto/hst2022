{
 "cells": [
  {
   "cell_type": "markdown",
   "id": "46f56c10-8855-4d03-abad-31c051a039f9",
   "metadata": {},
   "source": [
    "# 예제2 임베딩성능측정"
   ]
  },
  {
   "cell_type": "code",
   "execution_count": 2,
   "id": "f262e877-458b-4b19-8e38-e704ee000d8e",
   "metadata": {},
   "outputs": [],
   "source": [
    "import numpy as np\n",
    "import pandas as pd\n",
    "import matplotlib.pyplot as plt\n",
    "import matplotlib\n",
    "matplotlib.rc('image', cmap='Greys')\n",
    "import rpy2 \n",
    "%load_ext rpy2.ipython\n",
    "%run pybase\n",
    "%run heavysnow "
   ]
  },
  {
   "cell_type": "code",
   "execution_count": 3,
   "id": "a566e214-f901-42ed-bfeb-a1941c4044d4",
   "metadata": {},
   "outputs": [],
   "source": [
    "### Example 2\n",
    "np.random.seed(777)\n",
    "import math\n",
    "pi=math.pi\n",
    "n=60\n",
    "ang=np.linspace(-pi,pi-2*pi/n,n)\n",
    "V=np.arange(n)+1\n",
    "r=1\n",
    "vx=r*np.cos(ang)\n",
    "vy=r*np.sin(ang)\n",
    "fmean=vx*0+1\n",
    "#fmean[vy<0]=3\n",
    "#fmean[vy>=0]= -3"
   ]
  },
  {
   "cell_type": "code",
   "execution_count": 4,
   "id": "2917129d-49e1-4434-aa5d-d353510eeb00",
   "metadata": {},
   "outputs": [],
   "source": [
    "snrs= np.array([5,10,15,20,25,30])"
   ]
  },
  {
   "cell_type": "code",
   "execution_count": 5,
   "id": "dd76e6b9-18af-4008-9cad-eda9d8224c50",
   "metadata": {},
   "outputs": [],
   "source": [
    "stds = 1 / snrs\n",
    "stds = [0.1,0.2,0.3,0.4,0.5,0.6,0.7,0.8,0.9,1]\n",
    "bs= [0.05, 0.1, 0.5] "
   ]
  },
  {
   "cell_type": "code",
   "execution_count": 6,
   "id": "24aa6bb1-54d6-4b8b-9e2b-8684b934fdf9",
   "metadata": {},
   "outputs": [],
   "source": [
    "f=[fmean + np.random.randn(60)*stds[i] for i in range(10)] "
   ]
  },
  {
   "cell_type": "code",
   "execution_count": 7,
   "id": "fff8f7eb-f355-4181-980b-93d42f14a2ea",
   "metadata": {},
   "outputs": [
    {
     "data": {
      "image/png": "[encoded data removed]",
      "text/plain": [
       "<Figure size 432x288 with 1 Axes>"
      ]
     },
     "metadata": {
      "needs_background": "light"
     },
     "output_type": "display_data"
    }
   ],
   "source": [
    "# Edg setting\n",
    "Σ=l2distance(np.matrix([vx,vy]).T)\n",
    "θ=0.25\n",
    "W=np.exp(-Σ**2/(2*θ**2))-np.eye(n,n)\n",
    "E=W>0\n",
    "plt.plot(W[0,:].T)\n",
    "# color\n",
    "import matplotlib.cm as cm\n",
    "col=list(np.array(cm.rainbow((ang+pi)/2/pi)))"
   ]
  },
  {
   "cell_type": "code",
   "execution_count": 10,
   "id": "10d5fa1f-c17d-4630-acb8-2aa8db2dc5d6",
   "metadata": {},
   "outputs": [],
   "source": [
    "I=10 # noise level \n",
    "J=3 # bs \n",
    "K=100 # iter"
   ]
  },
  {
   "cell_type": "code",
   "execution_count": 11,
   "id": "083b2358-7a88-4f40-87b4-d6b2ec3a97a0",
   "metadata": {},
   "outputs": [],
   "source": [
    "from sklearn.decomposition import PCA\n",
    "pca=PCA(n_components=2)"
   ]
  },
  {
   "cell_type": "code",
   "execution_count": 8,
   "id": "2d418d23-636e-4c28-ad25-750e864e05fa",
   "metadata": {
    "tags": []
   },
   "outputs": [],
   "source": [
    "gs=[[GraphSignal(V,W,fmean + np.random.randn(60)*stds[i]) for i in range(10)] for k in range(100)] "
   ]
  },
  {
   "cell_type": "code",
   "execution_count": 29,
   "id": "1ce0c406-c367-46c0-b084-795f7ce198e7",
   "metadata": {},
   "outputs": [],
   "source": [
    "hs=[[HeavysnowTransform(gs[k][i]) for i in range(I)] for k in range(K)] "
   ]
  },
  {
   "cell_type": "code",
   "execution_count": 31,
   "id": "1a3a3f49-1ec0-4164-8c5e-8d2a23a31ca8",
   "metadata": {},
   "outputs": [
    {
     "name": "stdout",
     "output_type": "stream",
     "text": [
      "0,0\n",
      "0,1\n",
      "0,2\n",
      "1,0\n",
      "1,1\n",
      "1,2\n",
      "2,0\n",
      "2,1\n",
      "2,2\n",
      "3,0\n",
      "3,1\n",
      "3,2\n",
      "4,0\n",
      "4,1\n",
      "4,2\n",
      "5,0\n",
      "5,1\n",
      "5,2\n",
      "6,0\n",
      "6,1\n",
      "6,2\n",
      "7,0\n",
      "7,1\n",
      "7,2\n",
      "8,0\n",
      "8,1\n",
      "8,2\n",
      "9,0\n",
      "9,1\n",
      "9,2\n"
     ]
    }
   ],
   "source": [
    "dists = np.zeros([I,J,K,60,2]) \n",
    "for i in range(I): # i=noise_level, j=b, k=iter, \n",
    "    for j in range(J):\n",
    "        for k in range(K):\n",
    "            hs[k][i].snow(tau=100000,b=bs[j]) \n",
    "            dists[i,j,k,:,:] = pca.fit(hs[k][i].snowdistance).transform(hs[k][i].snowdistance) \n",
    "        print(str(i)+','+str(j))"
   ]
  },
  {
   "cell_type": "code",
   "execution_count": 32,
   "id": "49d0557c-7184-4c44-ac22-068cb1b4136b",
   "metadata": {},
   "outputs": [
    {
     "data": {
      "text/plain": [
       "(10, 3, 100, 60, 2)"
      ]
     },
     "execution_count": 32,
     "metadata": {},
     "output_type": "execute_result"
    }
   ],
   "source": [
    "dists.shape"
   ]
  },
  {
   "cell_type": "code",
   "execution_count": 33,
   "id": "4812eeed-1a7d-4b41-96ab-166e7859ad80",
   "metadata": {},
   "outputs": [
    {
     "data": {
      "text/plain": [
       "[<matplotlib.lines.Line2D at 0x7f8637aae980>]"
      ]
     },
     "execution_count": 33,
     "metadata": {},
     "output_type": "execute_result"
    },
    {
     "data": {
      "image/png": "[encoded data removed]",
      "text/plain": [
       "<Figure size 432x288 with 1 Axes>"
      ]
     },
     "metadata": {
      "needs_background": "light"
     },
     "output_type": "display_data"
    }
   ],
   "source": [
    "plt.plot(dists[0,-2,-1,:,:][:,0],dists[0,-2,-1,:,:][:,1],'.')"
   ]
  },
  {
   "cell_type": "code",
   "execution_count": 34,
   "id": "58465870-da2e-46da-8e51-2cb3c03d5106",
   "metadata": {},
   "outputs": [],
   "source": [
    "dists_stds = np.zeros([I,J,K])\n",
    "for i in range(I):\n",
    "    for j in range(J):\n",
    "        for k in range(K):\n",
    "            dists_stds[i,j,k]=np.std(np.sqrt((dists[i,j,k,...]**2).sum(axis=-1))/np.mean(np.sqrt((dists[i,j,k,...]**2).sum(axis=-1)))*9)"
   ]
  },
  {
   "cell_type": "code",
   "execution_count": 35,
   "id": "76550c08-2792-4571-800e-7097f5b98227",
   "metadata": {},
   "outputs": [
    {
     "data": {
      "text/plain": [
       "array([[[0.61517741, 1.22923445, 0.98873536, ..., 1.00694884,\n",
       "         0.91336061, 1.07562174],\n",
       "        [1.06567876, 0.90265391, 0.98904638, ..., 0.89307949,\n",
       "         0.83881112, 1.45435043],\n",
       "        [0.75444303, 0.7954398 , 0.84647501, ..., 1.01741042,\n",
       "         1.0790329 , 1.33487337]],\n",
       "\n",
       "       [[0.4866689 , 0.98133635, 0.79209552, ..., 0.7830513 ,\n",
       "         0.9988982 , 0.75573039],\n",
       "        [0.68716658, 1.20046307, 0.68621021, ..., 0.84142021,\n",
       "         0.43989608, 0.50761925],\n",
       "        [0.82614184, 1.5531921 , 0.99814786, ..., 1.02010174,\n",
       "         0.75085306, 1.29259211]],\n",
       "\n",
       "       [[0.9643349 , 1.14035754, 0.90967937, ..., 0.79786701,\n",
       "         1.0184768 , 0.74879311],\n",
       "        [0.68383878, 0.78658989, 0.57842878, ..., 1.26950477,\n",
       "         1.4120686 , 0.58947428],\n",
       "        [1.39862745, 1.04842819, 0.87490072, ..., 0.97788069,\n",
       "         1.17128558, 0.9857536 ]],\n",
       "\n",
       "       ...,\n",
       "\n",
       "       [[5.76543253, 4.48993187, 4.81324596, ..., 7.33911354,\n",
       "         4.41765721, 7.13050433],\n",
       "        [1.18398394, 1.43745565, 1.15611795, ..., 0.97284843,\n",
       "         0.94130544, 1.49229896],\n",
       "        [1.01254896, 0.63266696, 1.1670199 , ..., 0.82722283,\n",
       "         0.96257678, 0.82646776]],\n",
       "\n",
       "       [[7.26370873, 6.4694549 , 4.94823056, ..., 5.88935115,\n",
       "         5.76636308, 6.9643815 ],\n",
       "        [3.59531692, 1.47129115, 1.73600751, ..., 0.93471639,\n",
       "         3.00817065, 1.27487408],\n",
       "        [0.5683852 , 0.38297994, 0.57472652, ..., 0.66482264,\n",
       "         0.8135363 , 0.77451957]],\n",
       "\n",
       "       [[6.24520166, 6.36645757, 5.99188054, ..., 4.66408625,\n",
       "         7.69780886, 8.74124485],\n",
       "        [2.04028074, 1.59565055, 2.5610895 , ..., 2.19437434,\n",
       "         1.15788951, 6.11173709],\n",
       "        [0.99633457, 1.20395828, 1.06553455, ..., 0.53368906,\n",
       "         0.77589259, 1.05753562]]])"
      ]
     },
     "execution_count": 35,
     "metadata": {},
     "output_type": "execute_result"
    }
   ],
   "source": [
    "dists_stds"
   ]
  },
  {
   "cell_type": "code",
   "execution_count": 36,
   "id": "94164bbc-b84a-490c-8112-ca766b50840b",
   "metadata": {},
   "outputs": [
    {
     "data": {
      "text/plain": [
       "array([[0.97068626, 0.90377011, 0.91099634],\n",
       "       [0.88282443, 0.91802767, 0.9312816 ],\n",
       "       [0.96458785, 0.9071536 , 0.91300746],\n",
       "       [1.10041445, 0.89568394, 0.94734727],\n",
       "       [1.77820614, 0.89690819, 0.95889456],\n",
       "       [3.19719672, 0.9463845 , 0.94363317],\n",
       "       [4.68124141, 0.96175326, 0.95142872],\n",
       "       [5.84643839, 1.09283849, 0.95388463],\n",
       "       [6.36369079, 1.34267409, 0.87329048],\n",
       "       [6.40575939, 1.74837802, 0.91549259]])"
      ]
     },
     "execution_count": 36,
     "metadata": {},
     "output_type": "execute_result"
    }
   ],
   "source": [
    "dists_stds.mean(axis=-1)"
   ]
  },
  {
   "cell_type": "code",
   "execution_count": 39,
   "id": "90da48f6-3312-44d6-bbc1-2324376eecd8",
   "metadata": {},
   "outputs": [
    {
     "data": {
      "text/html": [
       "<div>\n",
       "<style scoped>\n",
       "    .dataframe tbody tr th:only-of-type {\n",
       "        vertical-align: middle;\n",
       "    }\n",
       "\n",
       "    .dataframe tbody tr th {\n",
       "        vertical-align: top;\n",
       "    }\n",
       "\n",
       "    .dataframe thead th {\n",
       "        text-align: right;\n",
       "    }\n",
       "</style>\n",
       "<table border=\"1\" class=\"dataframe\">\n",
       "  <thead>\n",
       "    <tr style=\"text-align: right;\">\n",
       "      <th></th>\n",
       "      <th>0</th>\n",
       "      <th>1</th>\n",
       "      <th>2</th>\n",
       "    </tr>\n",
       "  </thead>\n",
       "  <tbody>\n",
       "    <tr>\n",
       "      <th>0</th>\n",
       "      <td>0.970686</td>\n",
       "      <td>0.903770</td>\n",
       "      <td>0.910996</td>\n",
       "    </tr>\n",
       "    <tr>\n",
       "      <th>1</th>\n",
       "      <td>0.882824</td>\n",
       "      <td>0.918028</td>\n",
       "      <td>0.931282</td>\n",
       "    </tr>\n",
       "    <tr>\n",
       "      <th>2</th>\n",
       "      <td>0.964588</td>\n",
       "      <td>0.907154</td>\n",
       "      <td>0.913007</td>\n",
       "    </tr>\n",
       "    <tr>\n",
       "      <th>3</th>\n",
       "      <td>1.100414</td>\n",
       "      <td>0.895684</td>\n",
       "      <td>0.947347</td>\n",
       "    </tr>\n",
       "    <tr>\n",
       "      <th>4</th>\n",
       "      <td>1.778206</td>\n",
       "      <td>0.896908</td>\n",
       "      <td>0.958895</td>\n",
       "    </tr>\n",
       "    <tr>\n",
       "      <th>5</th>\n",
       "      <td>3.197197</td>\n",
       "      <td>0.946385</td>\n",
       "      <td>0.943633</td>\n",
       "    </tr>\n",
       "    <tr>\n",
       "      <th>6</th>\n",
       "      <td>4.681241</td>\n",
       "      <td>0.961753</td>\n",
       "      <td>0.951429</td>\n",
       "    </tr>\n",
       "    <tr>\n",
       "      <th>7</th>\n",
       "      <td>5.846438</td>\n",
       "      <td>1.092838</td>\n",
       "      <td>0.953885</td>\n",
       "    </tr>\n",
       "    <tr>\n",
       "      <th>8</th>\n",
       "      <td>6.363691</td>\n",
       "      <td>1.342674</td>\n",
       "      <td>0.873290</td>\n",
       "    </tr>\n",
       "    <tr>\n",
       "      <th>9</th>\n",
       "      <td>6.405759</td>\n",
       "      <td>1.748378</td>\n",
       "      <td>0.915493</td>\n",
       "    </tr>\n",
       "  </tbody>\n",
       "</table>\n",
       "</div>"
      ],
      "text/plain": [
       "          0         1         2\n",
       "0  0.970686  0.903770  0.910996\n",
       "1  0.882824  0.918028  0.931282\n",
       "2  0.964588  0.907154  0.913007\n",
       "3  1.100414  0.895684  0.947347\n",
       "4  1.778206  0.896908  0.958895\n",
       "5  3.197197  0.946385  0.943633\n",
       "6  4.681241  0.961753  0.951429\n",
       "7  5.846438  1.092838  0.953885\n",
       "8  6.363691  1.342674  0.873290\n",
       "9  6.405759  1.748378  0.915493"
      ]
     },
     "execution_count": 39,
     "metadata": {},
     "output_type": "execute_result"
    }
   ],
   "source": [
    "df=pd.DataFrame(dists_stds.mean(axis=-1))\n",
    "df"
   ]
  },
  {
   "cell_type": "code",
   "execution_count": 49,
   "id": "10a14730-5348-492a-90ac-76cd35f40c5f",
   "metadata": {},
   "outputs": [
    {
     "data": {
      "text/html": [
       "<div>\n",
       "<style scoped>\n",
       "    .dataframe tbody tr th:only-of-type {\n",
       "        vertical-align: middle;\n",
       "    }\n",
       "\n",
       "    .dataframe tbody tr th {\n",
       "        vertical-align: top;\n",
       "    }\n",
       "\n",
       "    .dataframe thead th {\n",
       "        text-align: right;\n",
       "    }\n",
       "</style>\n",
       "<table border=\"1\" class=\"dataframe\">\n",
       "  <thead>\n",
       "    <tr style=\"text-align: right;\">\n",
       "      <th></th>\n",
       "      <th>b=0.05</th>\n",
       "      <th>b=0.1</th>\n",
       "      <th>b=0.5</th>\n",
       "    </tr>\n",
       "  </thead>\n",
       "  <tbody>\n",
       "    <tr>\n",
       "      <th>sd=0.1</th>\n",
       "      <td>0.970686</td>\n",
       "      <td>0.903770</td>\n",
       "      <td>0.910996</td>\n",
       "    </tr>\n",
       "    <tr>\n",
       "      <th>sd=0.2</th>\n",
       "      <td>0.882824</td>\n",
       "      <td>0.918028</td>\n",
       "      <td>0.931282</td>\n",
       "    </tr>\n",
       "    <tr>\n",
       "      <th>sd=0.3</th>\n",
       "      <td>0.964588</td>\n",
       "      <td>0.907154</td>\n",
       "      <td>0.913007</td>\n",
       "    </tr>\n",
       "    <tr>\n",
       "      <th>sd=0.4</th>\n",
       "      <td>1.100414</td>\n",
       "      <td>0.895684</td>\n",
       "      <td>0.947347</td>\n",
       "    </tr>\n",
       "    <tr>\n",
       "      <th>sd=0.5</th>\n",
       "      <td>1.778206</td>\n",
       "      <td>0.896908</td>\n",
       "      <td>0.958895</td>\n",
       "    </tr>\n",
       "    <tr>\n",
       "      <th>sd=0.6</th>\n",
       "      <td>3.197197</td>\n",
       "      <td>0.946385</td>\n",
       "      <td>0.943633</td>\n",
       "    </tr>\n",
       "    <tr>\n",
       "      <th>sd=0.7</th>\n",
       "      <td>4.681241</td>\n",
       "      <td>0.961753</td>\n",
       "      <td>0.951429</td>\n",
       "    </tr>\n",
       "    <tr>\n",
       "      <th>sd=0.8</th>\n",
       "      <td>5.846438</td>\n",
       "      <td>1.092838</td>\n",
       "      <td>0.953885</td>\n",
       "    </tr>\n",
       "    <tr>\n",
       "      <th>sd=0.9</th>\n",
       "      <td>6.363691</td>\n",
       "      <td>1.342674</td>\n",
       "      <td>0.873290</td>\n",
       "    </tr>\n",
       "    <tr>\n",
       "      <th>sd=1</th>\n",
       "      <td>6.405759</td>\n",
       "      <td>1.748378</td>\n",
       "      <td>0.915493</td>\n",
       "    </tr>\n",
       "  </tbody>\n",
       "</table>\n",
       "</div>"
      ],
      "text/plain": [
       "          b=0.05     b=0.1     b=0.5\n",
       "sd=0.1  0.970686  0.903770  0.910996\n",
       "sd=0.2  0.882824  0.918028  0.931282\n",
       "sd=0.3  0.964588  0.907154  0.913007\n",
       "sd=0.4  1.100414  0.895684  0.947347\n",
       "sd=0.5  1.778206  0.896908  0.958895\n",
       "sd=0.6  3.197197  0.946385  0.943633\n",
       "sd=0.7  4.681241  0.961753  0.951429\n",
       "sd=0.8  5.846438  1.092838  0.953885\n",
       "sd=0.9  6.363691  1.342674  0.873290\n",
       "sd=1    6.405759  1.748378  0.915493"
      ]
     },
     "execution_count": 49,
     "metadata": {},
     "output_type": "execute_result"
    }
   ],
   "source": [
    "df.columns= ['b=0.05','b=0.1','b=0.5']\n",
    "df.index= ['sd='+str(i) for i in stds]\n",
    "df"
   ]
  },
  {
   "cell_type": "code",
   "execution_count": 51,
   "id": "27fd175b-1cc6-4123-9340-eecb459c5b6e",
   "metadata": {},
   "outputs": [],
   "source": [
    "df.to_csv('Embeddingperformance_tau10.csv')"
   ]
  },
  {
   "cell_type": "markdown",
   "id": "dd218b2b-5239-422b-a959-ac39d9020267",
   "metadata": {},
   "source": [
    "`-` $\\tau=150,000$"
   ]
  },
  {
   "cell_type": "code",
   "execution_count": null,
   "id": "01cff4d5-e15f-46ae-bb48-60c181e2b4a7",
   "metadata": {},
   "outputs": [
    {
     "name": "stdout",
     "output_type": "stream",
     "text": [
      "0,0\n",
      "9,0\n"
     ]
    }
   ],
   "source": [
    "gs=[[GraphSignal(V,W,fmean + np.random.randn(60)*stds[i]) for i in range(10)] for k in range(100)] \n",
    "hs=[[HeavysnowTransform(gs[k][i]) for i in range(I)] for k in range(K)] \n",
    "dists2 = np.zeros([I,J,K,60,2]) \n",
    "for i in range(I): # i=noise_level, j=b, k=iter, \n",
    "    for j in range(J):\n",
    "        for k in range(K):\n",
    "            hs[k][i].snow(tau=150000,b=bs[j]) \n",
    "            dists2[i,j,k,:,:] = pca.fit(hs[k][i].snowdistance).transform(hs[k][i].snowdistance) \n",
    "        print(str(i)+','+str(j))\n",
    "dists_stds2 = np.zeros([I,J,K])\n",
    "for i in range(I):\n",
    "    for j in range(J):\n",
    "        for k in range(K):\n",
    "            dists_stds2[i,j,k]=np.std(np.sqrt((dists2[i,j,k,...]**2).sum(axis=-1))/np.mean(np.sqrt((dists2[i,j,k,...]**2).sum(axis=-1)))*9)        \n",
    "dists_stds2.mean(axis=-1)        "
   ]
  },
  {
   "cell_type": "code",
   "execution_count": null,
   "id": "524c47e1-8424-475f-9176-517d9cfbef29",
   "metadata": {},
   "outputs": [],
   "source": [
    "df2=pd.DataFrame(dists_stds2.mean(axis=-1))\n",
    "df2.columns= ['b=0.05','b=0.1','b=0.5']\n",
    "df2.index= ['sd='+str(i) for i in stds]\n",
    "df2.to_csv('Embeddingperformance_tau15.csv')"
   ]
  },
  {
   "cell_type": "markdown",
   "id": "6b3df7be-1618-4a0d-a466-52e5403e169e",
   "metadata": {},
   "source": [
    "`-` $\\tau=200,000$"
   ]
  },
  {
   "cell_type": "code",
   "execution_count": null,
   "id": "8b47c4fb-f8e1-4f03-be7e-b1b67e339932",
   "metadata": {},
   "outputs": [],
   "source": [
    "gs=[[GraphSignal(V,W,fmean + np.random.randn(60)*stds[i]) for i in range(10)] for k in range(100)] \n",
    "hs=[[HeavysnowTransform(gs[k][i]) for i in range(I)] for k in range(K)] \n",
    "dists3 = np.zeros([I,J,K,60,2]) \n",
    "for i in range(I): # i=noise_level, j=b, k=iter, \n",
    "    for j in range(J):\n",
    "        for k in range(K):\n",
    "            hs[k][i].snow(tau=200000,b=bs[j]) \n",
    "            dists3[i,j,k,:,:] = pca.fit(hs[k][i].snowdistance).transform(hs[k][i].snowdistance) \n",
    "        print(str(i)+','+str(j))\n",
    "dists_stds3 = np.zeros([I,J,K])\n",
    "for i in range(I):\n",
    "    for j in range(J):\n",
    "        for k in range(K):\n",
    "            dists_stds3[i,j,k]=np.std(np.sqrt((dists3[i,j,k,...]**2).sum(axis=-1))/np.mean(np.sqrt((dists3[i,j,k,...]**2).sum(axis=-1)))*9)        \n",
    "dists_stds3.mean(axis=-1)        "
   ]
  },
  {
   "cell_type": "code",
   "execution_count": null,
   "id": "87ddce85-8583-400c-a293-17891b665622",
   "metadata": {},
   "outputs": [],
   "source": [
    "df3=pd.DataFrame(dists_stds3.mean(axis=-1))\n",
    "df3.columns= ['b=0.05','b=0.1','b=0.5']\n",
    "df3.index= ['sd='+str(i) for i in stds]\n",
    "df3.to_csv('Embeddingperformance_tau20.csv')"
   ]
  },
  {
   "cell_type": "code",
   "execution_count": null,
   "id": "522c0900-8a6c-4a3b-866c-7119371ed3b3",
   "metadata": {},
   "outputs": [],
   "source": []
  }
 ],
 "metadata": {
  "kernelspec": {
   "display_name": "Python 3 (ipykernel)",
   "language": "python",
   "name": "python3"
  },
  "language_info": {
   "codemirror_mode": {
    "name": "ipython",
    "version": 3
   },
   "file_extension": ".py",
   "mimetype": "text/x-python",
   "name": "python",
   "nbconvert_exporter": "python",
   "pygments_lexer": "ipython3",
   "version": "3.10.2"
  }
 },
 "nbformat": 4,
 "nbformat_minor": 5
}
